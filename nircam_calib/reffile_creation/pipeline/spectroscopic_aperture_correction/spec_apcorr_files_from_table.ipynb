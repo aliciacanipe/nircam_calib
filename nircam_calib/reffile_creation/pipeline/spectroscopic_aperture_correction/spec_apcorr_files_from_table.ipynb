{
 "cells": [
  {
   "cell_type": "markdown",
   "metadata": {},
   "source": [
    "# Create Spectroscopic Aperture Correction Reference Files"
   ]
  },
  {
   "cell_type": "markdown",
   "metadata": {},
   "source": [
    "This notebook shows how to create spectroscopic aperture correction reference files for NIRCam WFSS starting from a table of aperture correction values."
   ]
  },
  {
   "cell_type": "code",
   "execution_count": null,
   "metadata": {},
   "outputs": [],
   "source": [
    "from astropy.io import ascii, fits\n",
    "from astropy.table import Table\n",
    "from jwst.datamodels.apcorr import NrcWfssApcorrModel\n",
    "import matplotlib.pyplot as plt\n",
    "import numpy as np"
   ]
  },
  {
   "cell_type": "markdown",
   "metadata": {},
   "source": [
    "Input ascii table"
   ]
  },
  {
   "cell_type": "code",
   "execution_count": null,
   "metadata": {},
   "outputs": [],
   "source": [
    "table_file = 'AperCor.table'"
   ]
  },
  {
   "cell_type": "markdown",
   "metadata": {},
   "source": [
    "## Read in the input table"
   ]
  },
  {
   "cell_type": "code",
   "execution_count": null,
   "metadata": {},
   "outputs": [],
   "source": [
    "table = ascii.read(table_file)"
   ]
  },
  {
   "cell_type": "code",
   "execution_count": null,
   "metadata": {},
   "outputs": [],
   "source": [
    "table.columns"
   ]
  },
  {
   "cell_type": "markdown",
   "metadata": {},
   "source": [
    "### Get a list of the extraction sizes in the table"
   ]
  },
  {
   "cell_type": "code",
   "execution_count": null,
   "metadata": {},
   "outputs": [],
   "source": [
    "sizes_all = sorted(list(set(table['Width'])))"
   ]
  },
  {
   "cell_type": "markdown",
   "metadata": {},
   "source": [
    "Input table Widths are in arcseconds. Change to pixels."
   ]
  },
  {
   "cell_type": "code",
   "execution_count": null,
   "metadata": {},
   "outputs": [],
   "source": [
    "pixel_scale = 0.06  # arcsec/pixel"
   ]
  },
  {
   "cell_type": "code",
   "execution_count": null,
   "metadata": {},
   "outputs": [],
   "source": [
    "sizes_pix_all = (np.array(sizes_all) / pixel_scale).astype(np.int)"
   ]
  },
  {
   "cell_type": "markdown",
   "metadata": {},
   "source": [
    "In the reference file, the 'size' column is specified to be an unsigned 8 bit integer. This means that the maximum value we can have in there is 255. The mean aperture correction (across wavelengths) for an extraction width of 255 pixels is about 1.011. This is small enough that it should be fine to ignore larger extraction sizes in the reference file. So cut down the table so that 255 pixels is the maximum size."
   ]
  },
  {
   "cell_type": "code",
   "execution_count": null,
   "metadata": {},
   "outputs": [],
   "source": [
    "last = sizes_pix_all <= 255.1\n",
    "sizes_pix = sizes_pix_all[last]\n",
    "sizes = np.array(sizes_all)[last]"
   ]
  },
  {
   "cell_type": "code",
   "execution_count": null,
   "metadata": {},
   "outputs": [],
   "source": [
    "sizes_pix"
   ]
  },
  {
   "cell_type": "code",
   "execution_count": null,
   "metadata": {},
   "outputs": [],
   "source": [
    "sizes"
   ]
  },
  {
   "cell_type": "markdown",
   "metadata": {},
   "source": [
    "### Find the wavelength values used in the table"
   ]
  },
  {
   "cell_type": "code",
   "execution_count": null,
   "metadata": {},
   "outputs": [],
   "source": [
    "wavelengths = sorted(list(set(table['Wavelength'])))"
   ]
  },
  {
   "cell_type": "code",
   "execution_count": null,
   "metadata": {},
   "outputs": [],
   "source": [
    "print(len(wavelengths), min(wavelengths), max(wavelengths))"
   ]
  },
  {
   "cell_type": "markdown",
   "metadata": {},
   "source": [
    "## Plot data as a sanity check"
   ]
  },
  {
   "cell_type": "code",
   "execution_count": null,
   "metadata": {},
   "outputs": [],
   "source": [
    "# Put the 1-pixel extraction height on a separate plot since it's so much\n",
    "# larger than those for the other apertures\n",
    "f, a = plt.subplots(figsize=(6,7))\n",
    "good = np.where(table['Width'] == sizes[0])\n",
    "size_waves = table['Wavelength'][good]\n",
    "size_apcor = table['AperCor'][good]\n",
    "size_label = sizes[0] / pixel_scale\n",
    "a.plot(size_waves, size_apcor, label='{} pix'.format(size_label))\n",
    "a.set_ylabel('AperCor')\n",
    "a.set_xlabel('Wavelength (micron)')\n",
    "a.set_ylim(3, 15)\n",
    "a.legend()"
   ]
  },
  {
   "cell_type": "code",
   "execution_count": null,
   "metadata": {},
   "outputs": [],
   "source": [
    "# Plot curves for the next few extraction heights\n",
    "f, a = plt.subplots(figsize=(12,14))\n",
    "for size_val in sizes[1:10]:\n",
    "    good = np.where(table['Width'] == size_val)\n",
    "    size_waves = table['Wavelength'][good]\n",
    "    size_apcor = table['AperCor'][good]\n",
    "    size_label = size_val / pixel_scale\n",
    "    a.plot(size_waves, size_apcor, label='{} pix'.format(size_label))\n",
    "a.set_ylabel('AperCor')\n",
    "a.set_xlabel('Wavelength (micron)')\n",
    "a.set_ylim(1, 2.5)\n",
    "a.legend()"
   ]
  },
  {
   "cell_type": "code",
   "execution_count": null,
   "metadata": {},
   "outputs": [],
   "source": [
    "# Plot the curve for extraction height = 255 pixels. If this is close to 1, then it\n",
    "# will be safe to ignore the curves for larger extraction heights.\n",
    "f, a = plt.subplots()\n",
    "goodsize = 15.3\n",
    "good = np.isclose(table['Width'], goodsize, rtol=0, atol=0.001)\n",
    "a.plot(table['Wavelength'][good], table['AperCor'][good])\n",
    "a.set_ylabel('Aperture Correction')\n",
    "a.set_xlabel('Wavelength (micron)')"
   ]
  },
  {
   "cell_type": "markdown",
   "metadata": {},
   "source": [
    "### Rearrange Apcorr values into the expected 2D table"
   ]
  },
  {
   "cell_type": "code",
   "execution_count": null,
   "metadata": {},
   "outputs": [],
   "source": [
    "nelem_size = len(sizes)\n",
    "nelem_wl = len(wavelengths)"
   ]
  },
  {
   "cell_type": "code",
   "execution_count": null,
   "metadata": {},
   "outputs": [],
   "source": [
    "apcor = np.zeros((nelem_size, nelem_wl))"
   ]
  },
  {
   "cell_type": "code",
   "execution_count": null,
   "metadata": {},
   "outputs": [],
   "source": [
    "row = 0\n",
    "for size_val in sizes:\n",
    "    good = np.where(table['Width'] == size_val)\n",
    "    size_waves = table['Wavelength'][good]\n",
    "    size_apcor = table['AperCor'][good]\n",
    "    apcor[row, :] = size_apcor\n",
    "    row += 1"
   ]
  },
  {
   "cell_type": "code",
   "execution_count": null,
   "metadata": {},
   "outputs": [],
   "source": [
    "# Make sure all elements have been populated. There should be no zeros left in the array\n",
    "np.min(apcor)"
   ]
  },
  {
   "cell_type": "code",
   "execution_count": null,
   "metadata": {},
   "outputs": [],
   "source": [
    "# Uncertainties - keep zero for now\n",
    "apcor_err = np.zeros((nelem_size, nelem_wl))"
   ]
  },
  {
   "cell_type": "markdown",
   "metadata": {},
   "source": [
    "## Filter and Pupil lists"
   ]
  },
  {
   "cell_type": "code",
   "execution_count": null,
   "metadata": {},
   "outputs": [],
   "source": [
    "filters = ['F322W2', 'F277W', 'F356W', 'F444W', 'F250M', 'F300M',\n",
    "           'F335M', 'F360M', 'F410M', 'F430M', 'F460M', 'F480M']\n",
    "pupils = ['GRISMR', 'GRISMC']"
   ]
  },
  {
   "cell_type": "markdown",
   "metadata": {},
   "source": [
    "## Create the full table to populate the model"
   ]
  },
  {
   "cell_type": "markdown",
   "metadata": {},
   "source": [
    "Data table created following the example in the jwst package's [photom reference file creation page on JDox](https://jwst-pipeline.readthedocs.io/en/latest/jwst/photom/reference_files.html#constructing-a-photom-reference-file)."
   ]
  },
  {
   "cell_type": "markdown",
   "metadata": {},
   "source": [
    "Each characteristic should be put into a numpy array or list with the appropriate data type"
   ]
  },
  {
   "cell_type": "code",
   "execution_count": null,
   "metadata": {},
   "outputs": [],
   "source": [
    "num_rows = len(filters) * 2\n",
    "\n",
    "mod_filter = filters * 2\n",
    "mod_pupil = [pupils[0]] * len(filters) + ([pupils[1]] * len(filters))\n",
    "mod_wavelength = np.array([wavelengths] * num_rows, dtype=np.float32)\n",
    "mod_nelem_wl = np.array([nelem_wl] * num_rows, dtype=np.int16)\n",
    "mod_size = np.array([list(sizes_pix)] * num_rows, dtype=np.uint8)\n",
    "mod_nelem_size = np.array([nelem_size] * num_rows, dtype=np.int16)\n",
    "mod_apcorr = np.array([apcor] * num_rows, dtype=np.float32)\n",
    "mod_apcorr_err = np.array([apcor_err] * num_rows, dtype=np.float32)"
   ]
  },
  {
   "cell_type": "markdown",
   "metadata": {},
   "source": [
    "Combine all fields into a single list, and then convert to an ndarray with the proper data types and sizes"
   ]
  },
  {
   "cell_type": "code",
   "execution_count": null,
   "metadata": {},
   "outputs": [],
   "source": [
    "data_list = [(mod_filter[i], mod_pupil[i], mod_wavelength[i], mod_nelem_wl[i], mod_size[i],\n",
    "              mod_nelem_size[i], mod_apcorr[i], mod_apcorr_err[i]) for i in range(num_rows)]"
   ]
  },
  {
   "cell_type": "code",
   "execution_count": null,
   "metadata": {},
   "outputs": [],
   "source": [
    "data = np.array(data_list,\n",
    "                dtype=[('filter', 'S12'),\n",
    "                       ('pupil', 'S15'),\n",
    "                       ('wavelength', '<f4', (nelem_wl,)),\n",
    "                       ('nelem_wl', '<i2'),\n",
    "                       ('size', 'u1', (nelem_size,)),\n",
    "                       ('nelem_size', '<i2'),\n",
    "                       ('apcorr', '<f4', (nelem_size, nelem_wl)),\n",
    "                       ('apcorr_err', '<f4', (nelem_size, nelem_wl))])"
   ]
  },
  {
   "cell_type": "markdown",
   "metadata": {},
   "source": [
    "## Create Model Instance"
   ]
  },
  {
   "cell_type": "markdown",
   "metadata": {},
   "source": [
    "and populate with the ndarray from above"
   ]
  },
  {
   "cell_type": "code",
   "execution_count": null,
   "metadata": {},
   "outputs": [],
   "source": [
    "model = NrcWfssApcorrModel(apcorr_table=data)"
   ]
  },
  {
   "cell_type": "code",
   "execution_count": null,
   "metadata": {},
   "outputs": [],
   "source": [
    "# Specify units\n",
    "model.apcorr_table.columns['wavelength'].unit = 'um'\n",
    "model.apcorr_table.columns['size'].unit = 'pixels'"
   ]
  },
  {
   "cell_type": "markdown",
   "metadata": {},
   "source": [
    "### Populate metadata"
   ]
  },
  {
   "cell_type": "code",
   "execution_count": null,
   "metadata": {},
   "outputs": [],
   "source": [
    "model.meta.telescope = 'JWST'\n",
    "model.meta.reftype = 'APCORR'\n",
    "model.meta.pedigree = 'GROUND'\n",
    "model.meta.description = ('This is the initial version of the spectroscopic aperture correction reffile '\n",
    "                          'for NIRCam WFSS.')\n",
    "model.meta.author = 'B. Hilbert'\n",
    "model.meta.useafter = '2014-01-01T00:00:01'\n",
    "model.meta.instrument.name = 'NIRCAM'\n",
    "model.meta.instrument.detector = 'ANY'"
   ]
  },
  {
   "cell_type": "code",
   "execution_count": null,
   "metadata": {},
   "outputs": [],
   "source": [
    "model.meta.exposure.type = 'NRC_WFSS'\n",
    "model.meta.exposure.p_exptype = 'NRC_GRISM|NRC_WFSS|'"
   ]
  },
  {
   "cell_type": "code",
   "execution_count": null,
   "metadata": {},
   "outputs": [],
   "source": [
    "model.history.append(('This spectroscopic aperture correction file for NIRCam WFSS was created using '\n",
    "                      'encircled energy calculations on monochromatic model PSFs from WebbPSF. Aperture '\n",
    "                      'correction values were calculated for extraction heights ranging between 1 and '\n",
    "                      '255 pixels. Calculations were done by N. Pirzkal using WebbPSF 0.9.0. Packaging of '\n",
    "                      'the aperture correction results into CRDS reference files done by B. Hilbert in '\n",
    "                      'spec_apcorr_files_from_table.ipynb in the spacetelescope/nircam-calib repository.'))"
   ]
  },
  {
   "cell_type": "code",
   "execution_count": null,
   "metadata": {},
   "outputs": [],
   "source": [
    "model.save('nrc_wfss_apercorr.fits')"
   ]
  },
  {
   "cell_type": "code",
   "execution_count": null,
   "metadata": {},
   "outputs": [],
   "source": []
  }
 ],
 "metadata": {
  "kernelspec": {
   "display_name": "Python 3",
   "language": "python",
   "name": "python3"
  },
  "language_info": {
   "codemirror_mode": {
    "name": "ipython",
    "version": 3
   },
   "file_extension": ".py",
   "mimetype": "text/x-python",
   "name": "python",
   "nbconvert_exporter": "python",
   "pygments_lexer": "ipython3",
   "version": "3.8.2"
  }
 },
 "nbformat": 4,
 "nbformat_minor": 4
}

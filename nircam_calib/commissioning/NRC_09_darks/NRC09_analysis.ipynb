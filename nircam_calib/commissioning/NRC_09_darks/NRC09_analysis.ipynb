{
 "cells": [
  {
   "cell_type": "markdown",
   "metadata": {},
   "source": [
    "# NRC-09: Darks Data Analysis"
   ]
  },
  {
   "cell_type": "markdown",
   "metadata": {},
   "source": [
    "This notebook runs the code in the [nircam_calib/comissioning/NRC_09_darks](https://github.com/spacetelescope/nircam_calib/tree/master/nircam_calib/commissioning/NRC_09_darks) module in order to analyze data from the NIRCam Darks commissioning program."
   ]
  },
  {
   "cell_type": "markdown",
   "metadata": {},
   "source": [
    "## Table of Contents"
   ]
  },
  {
   "cell_type": "markdown",
   "metadata": {},
   "source": [
    "* [Objective](#objective)\n",
    "* [Relevant links](#links)\n",
    "* [Observing plan summary](#plan)\n",
    "* [Data for analysis](#data)\n",
    "* [Analysis](#analysis)\n",
    "    * [FPA and ASIC temperature plots](#temperature)\n",
    "    * [Stability of noise and dark current](#stability)\n",
    "    * [CR rates](#crs)\n",
    "    * [Glow signature](#glow)\n",
    "    * [Readnoise and 1/f noise](#noise)\n",
    "    * [IPC](#ipc)\n",
    "    * [Superbias](#superbias)\n",
    "    * [Cross-talk](#crosstalk)\n",
    "    * [Hot, noisy, and bad pixels](#pixels)\n",
    "    * [Generate reference files](#reffiles)"
   ]
  },
  {
   "cell_type": "markdown",
   "metadata": {},
   "source": [
    "<a id='objective'></a>\n",
    "## Objective"
   ]
  },
  {
   "cell_type": "markdown",
   "metadata": {},
   "source": [
    "The purpose of this activity is to take full-frame and subarray dark observations from which the dark reference files for all readout patterns and observing modes can be constructed. This data will be used to further characterize readnoise, 1/f noise, IPC, cross-talk, hot pixels, and superbias. Additionally, we will use the subarray dark exposures to investigate the glow signature that was observed in NIRISS subarray mode exposures. These will be the first NIRCam darks taken with the detectors at their final operating temperature, and so provide the first definitive test of whether the detectors, ASICS, and FPEs are operating as designed and as optimized prior to launch. Add sanity check (quick look at whether we think bad pixel masks are close or not). Compare the data with what we have on the ground. Get an idea early on of the CR rate.\n",
    "Double check that focal plane temperatures and DC levels are what we've seen at other times. We should make plots of the FPA and ASIC temperatures and see if they are well-behaved, see what the consequence is on the data if there are any temperature transients. \n",
    "Get current cooling curve from John and dump it in here to capture the temperature aspects. "
   ]
  },
  {
   "cell_type": "markdown",
   "metadata": {},
   "source": [
    "<a id='links'></a>\n",
    "## Relevant links"
   ]
  },
  {
   "cell_type": "markdown",
   "metadata": {},
   "source": [
    "* Notes from the APT file and commissioning activity review are here: [Review Notes NRC-09](https://outerspace.stsci.edu/display/JN/Review+Notes+NRC-09)\n",
    "* Notes from the commissioning analysis planning meetings are here: [CAP: NIRCam-09](https://outerspace.stsci.edu/display/JN/CAP%3A+NIRCam-09)\n",
    "* The Jira ticket for NRC-09 is here: [NRC-09 CAR -- NIRCam Darks (Flight)](https://jira.stsci.edu/browse/NRCCOM-13)"
   ]
  },
  {
   "cell_type": "markdown",
   "metadata": {},
   "source": [
    "<a id='plan'></a>\n",
    "## Observing plan summary"
   ]
  },
  {
   "attachments": {},
   "cell_type": "markdown",
   "metadata": {},
   "source": [
    "### Prerequisites\n",
    "\n",
    "The NRC-06: FPA Heater Control (SOPs 200, 202) commissioning activity is a prerequisite for all observations except the CDS noise check. \n",
    "\n",
    "### Full Frame\n",
    "\n",
    "We will take a set of short 500 second full-frame observations for each module as a CDS-noise check, which can be scheduled earlier in the timeline (e.g., day ~65-70) around temperature ~ 40K. \n",
    "\n",
    "There are 10 sets of long dark exposures specified for the full-frame subarray for each module. The first long full-frame observations (3 integrations each) should be scheduled in prime. The rest of the (7) sets of observations can be scheduled throughout commissioning as parallels.\n",
    "\n",
    "### Subarrays\n",
    "\n",
    "We will obtain subarray dark frames in the RAPID readout pattern for all science subarrays listed in Table 3 below. We take 5 integrations per subarray and choose enough groups to reconstruct the dark reference files for all the readout patterns used in the other commissioning programs. \n",
    "\n",
    "Some of the subarrays are used in other important commissioning programs, and should therefore not be scheduled in parallel. This includes the first 3 integrations for each extended source subarray, time series SUB64P subarray observations and the first 3 integrations for SUB400P, and the first 3 integrations for the grism time series SUBGRISM256 subarray with 4 outputs. The rest of the subarray observations can be scheduled throughout commissioning as parallels.\n",
    "\n",
    "<img src=\"img/table3.png\" width=\"700\">"
   ]
  },
  {
   "cell_type": "markdown",
   "metadata": {},
   "source": [
    "<a id='data'></a>\n",
    "## Data for analysis"
   ]
  },
  {
   "cell_type": "code",
   "execution_count": null,
   "metadata": {},
   "outputs": [],
   "source": [
    "base_dir = '/ifs/jwst/wit/nircam/'\n",
    "ground = ''\n",
    "flight = ''"
   ]
  },
  {
   "cell_type": "markdown",
   "metadata": {},
   "source": [
    "<a id='analysis'></a>\n",
    "## Analysis"
   ]
  },
  {
   "cell_type": "markdown",
   "metadata": {},
   "source": [
    "We will run the scripts in the following sections on these exposures:\n",
    "* FPA and ASIC temperature plots \n",
    "* Stability of noise and dark current \n",
    "* CR rates\n",
    "* Readnoise and 1/f noise\n",
    "* IPC\n",
    "* Superbias\n",
    "* Cross-talk\n",
    "* Hot, noisy, bad pixels\n",
    "* jwst_reffiles for bad pixel, readnoise, IPC, superbias, and dark current reference file generation"
   ]
  },
  {
   "cell_type": "markdown",
   "metadata": {},
   "source": [
    "<a id='temperature'></a>\n",
    "### FPA and ASIC temperature plots"
   ]
  },
  {
   "cell_type": "code",
   "execution_count": null,
   "metadata": {},
   "outputs": [],
   "source": []
  },
  {
   "cell_type": "markdown",
   "metadata": {},
   "source": [
    "<a id='stability'></a>\n",
    "### Stability of noise and dark current"
   ]
  },
  {
   "cell_type": "code",
   "execution_count": null,
   "metadata": {},
   "outputs": [],
   "source": []
  },
  {
   "cell_type": "markdown",
   "metadata": {},
   "source": [
    "<a id='crs'></a>\n",
    "### CR rates"
   ]
  },
  {
   "cell_type": "code",
   "execution_count": null,
   "metadata": {},
   "outputs": [],
   "source": []
  },
  {
   "cell_type": "markdown",
   "metadata": {},
   "source": [
    "<a id='glow'></a>\n",
    "### Glow signature"
   ]
  },
  {
   "cell_type": "code",
   "execution_count": null,
   "metadata": {},
   "outputs": [],
   "source": []
  },
  {
   "cell_type": "markdown",
   "metadata": {},
   "source": [
    "<a id='noise'></a>\n",
    "### Readnoise and 1/f noise"
   ]
  },
  {
   "cell_type": "code",
   "execution_count": null,
   "metadata": {},
   "outputs": [],
   "source": []
  },
  {
   "cell_type": "markdown",
   "metadata": {},
   "source": [
    "<a id='ipc'></a>\n",
    "### IPC"
   ]
  },
  {
   "cell_type": "code",
   "execution_count": null,
   "metadata": {},
   "outputs": [],
   "source": []
  },
  {
   "cell_type": "markdown",
   "metadata": {},
   "source": [
    "<a id='superbias'></a>\n",
    "### Superbias"
   ]
  },
  {
   "cell_type": "code",
   "execution_count": null,
   "metadata": {},
   "outputs": [],
   "source": []
  },
  {
   "cell_type": "markdown",
   "metadata": {},
   "source": [
    "<a id='crosstalk'></a>\n",
    "### Cross-talk"
   ]
  },
  {
   "cell_type": "code",
   "execution_count": null,
   "metadata": {},
   "outputs": [],
   "source": []
  },
  {
   "cell_type": "markdown",
   "metadata": {},
   "source": [
    "<a id='pixels'></a>\n",
    "### Hot, noisy, and bad pixels"
   ]
  },
  {
   "cell_type": "code",
   "execution_count": null,
   "metadata": {},
   "outputs": [],
   "source": []
  },
  {
   "cell_type": "markdown",
   "metadata": {},
   "source": [
    "<a id='reffiles'></a>\n",
    "### Generate reference files"
   ]
  },
  {
   "cell_type": "code",
   "execution_count": null,
   "metadata": {},
   "outputs": [],
   "source": []
  }
 ],
 "metadata": {
  "kernelspec": {
   "display_name": "Python 3",
   "language": "python",
   "name": "python3"
  },
  "language_info": {
   "codemirror_mode": {
    "name": "ipython",
    "version": 3
   },
   "file_extension": ".py",
   "mimetype": "text/x-python",
   "name": "python",
   "nbconvert_exporter": "python",
   "pygments_lexer": "ipython3",
   "version": "3.6.10"
  }
 },
 "nbformat": 4,
 "nbformat_minor": 4
}

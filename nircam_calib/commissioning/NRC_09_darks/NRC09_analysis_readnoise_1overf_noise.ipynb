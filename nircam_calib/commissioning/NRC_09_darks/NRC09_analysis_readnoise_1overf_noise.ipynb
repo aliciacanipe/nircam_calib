{
 "cells": [
  {
   "cell_type": "markdown",
   "metadata": {},
   "source": [
    "# NRC-09 Darks: Readnoise and 1/f Noise"
   ]
  },
  {
   "cell_type": "markdown",
   "metadata": {},
   "source": [
    "|                                |                                                          |\n",
    "|:---                            |:---                                                      |\n",
    "|__CAR Title__                   | NRC-09: Darks                                            |\n",
    "|__APT Program #__               | 1062                                                     |\n",
    "|__NGAS #__                      | 102                                                      |\n",
    "|__CAR Execution Dates(s) (UT):__| TBD                                                      |\n",
    "|__JIRA Ticket Links:__          | CAR [NRCCOM-13](https://jira.stsci.edu/browse/NRCCOM-13) ||\n",
    "|                                | CAP [NRCCOM-14](https://jira.stsci.edu/browse/NRCCOM-14) ||\n",
    "|                                | [JSOCOPS-15](https://jira.stsci.edu/browse/JSOCOPS-15)   ||\n",
    "|                                | NRCC1C-mm TBD                                            ||\n",
    "|                                | NRCC1C-nn TBD                                            |\n",
    "|__Analysis Team/Roles:__        | Leads: Karl Misselt (IDT), Alicia Canipe (IST)           ||\n",
    "|                                | Jarron Leisenring (Analysis/Scripts)                     ||\n",
    "|                                | Thomas Beatty (TSO expertise)                            ||\n",
    "|                                | Bryan Hilbert (Analysis/Scripts)                         ||\n",
    "|                                | Ben Sunnquist (Analysis/Scripts)                         ||\n",
    "|                                | Armin Rest (Analysis/Scripts)                            ||"
   ]
  },
  {
   "cell_type": "markdown",
   "metadata": {},
   "source": [
    "## Table of Contents"
   ]
  },
  {
   "cell_type": "markdown",
   "metadata": {},
   "source": [
    "* [Objective](#objective)\n",
    "* [Relevant links and documentation](#links)\n",
    "* [Environment for analysis](#environment)\n",
    "* [Imports](#imports)\n",
    "* [Data for analysis](#data)\n",
    "* [Readnoise](#readnoise)\n",
    "* [1/f noise](#readnoise)\n",
    "* [Reference pixel stability](#refpix)"
   ]
  },
  {
   "cell_type": "markdown",
   "metadata": {},
   "source": [
    "<a id='objective'></a>\n",
    "## Objective"
   ]
  },
  {
   "cell_type": "markdown",
   "metadata": {},
   "source": [
    "Characterize the properties (stability, spatial structure, etc.) of the readnoise and 1/f noise using the methods described in Rest 2014 (JWST-STScI-004118). Derive readnoise images for all detectors and compare them with ground test exposures. Note: we should think about reference pixel stability characterization - some reference pixels were unstable when they did the tuning. Compare with ground test data. "
   ]
  },
  {
   "cell_type": "markdown",
   "metadata": {},
   "source": [
    "<a id='links'></a>\n",
    "## Relevant links and documentation"
   ]
  },
  {
   "cell_type": "markdown",
   "metadata": {},
   "source": [
    "|                       |                                                                                  |\n",
    "|:---                   |:---                                                                              |\n",
    "__JWQL dark monitor__   |                                                                             |\n",
    "__NRC-09 CAR page__     |[Review Notes NRC-09](https://outerspace.stsci.edu/display/JN/Review+Notes+NRC-09)|\n",
    "__NRC-09 CAP page__     |[CAP: NIRCam-09](https://outerspace.stsci.edu/display/JN/CAP%3A+NIRCam-09)        |\n",
    "__Scripts__             |[NIRCam Commissioning Analysis Scripts](https://outerspace.stsci.edu/display/JN/NIRCam+Commissioning+Analysis+Scripts)                            |"
   ]
  },
  {
   "cell_type": "markdown",
   "metadata": {},
   "source": [
    "<a id='environment'></a>\n",
    "## Environment for analysis"
   ]
  },
  {
   "cell_type": "markdown",
   "metadata": {},
   "source": [
    "Follow instructions for downloading the latest version of the pipeline to get the necessary analysis tools. Activate your environment, and then add additional tools. Note that pipeline software is not guaranteed to work on Windows machines, but it *should* work, in theory. "
   ]
  },
  {
   "cell_type": "markdown",
   "metadata": {},
   "source": [
    "[Pipeline installation](https://github.com/spacetelescope/jwst#installing-latest-releases)\n",
    "\n",
    "```python\n",
    "conda create -n <env_name> python\n",
    "conda activate <env_name>\n",
    "pip install jwst\n",
    "```\n",
    "\n",
    "or for a specific version:\n",
    "```python\n",
    "conda create -n <env_name> python\n",
    "conda activate <env_name>\n",
    "pip install jwst==1.2.3\n",
    "```\n",
    "\n",
    "and add additional tools used:\n",
    "```python\n",
    "pip install ipython jupyter matplotlib pylint pandas\n",
    "```"
   ]
  },
  {
   "cell_type": "markdown",
   "metadata": {},
   "source": [
    "<a id='imports'></a>\n",
    "## Imports"
   ]
  },
  {
   "cell_type": "code",
   "execution_count": null,
   "metadata": {},
   "outputs": [],
   "source": [
    "import argparse\n",
    "import requests\n",
    "import yaml\n",
    "from glob import glob\n",
    "from jwst import datamodels\n",
    "import numpy as np\n",
    "import pandas as pd\n",
    "from astropy.io import fits, ascii\n",
    "from astropy.time import Time\n",
    "from astropy.io import fits\n",
    "import matplotlib.pyplot as plt\n",
    "import matplotlib.patches as patches\n",
    "from matplotlib.ticker import FuncFormatter, MaxNLocator\n",
    "%matplotlib inline"
   ]
  },
  {
   "cell_type": "markdown",
   "metadata": {},
   "source": [
    "<a id='data'></a>\n",
    "## Data for analysis"
   ]
  },
  {
   "cell_type": "markdown",
   "metadata": {},
   "source": [
    "Data will be downloaded from MAST using the code written by Mario Gennaro and Armin Rest, and stored in our NIRCam data location: **TBD**"
   ]
  },
  {
   "cell_type": "code",
   "execution_count": null,
   "metadata": {},
   "outputs": [],
   "source": [
    "# base_dir = '/ifs/jwst/wit/nircam/'\n",
    "base_dir = '/ifs/jwst/wit/witserv/data7/nrc/'\n",
    "analysis_dir = './'\n",
    "ground = 'otis_long_darks'\n",
    "flight = 'TBD'"
   ]
  },
  {
   "cell_type": "code",
   "execution_count": null,
   "metadata": {},
   "outputs": [],
   "source": [
    "files = glob(base_dir+ground+'/NRC*_484_*uncal.fits')"
   ]
  },
  {
   "cell_type": "markdown",
   "metadata": {},
   "source": [
    "<a id='readnoise'></a>\n",
    "## Readnoise"
   ]
  },
  {
   "cell_type": "markdown",
   "metadata": {},
   "source": [
    "Add Ben's scripts. "
   ]
  },
  {
   "cell_type": "markdown",
   "metadata": {},
   "source": [
    "<a id='1f'></a>\n",
    "## 1/f noise"
   ]
  },
  {
   "cell_type": "markdown",
   "metadata": {},
   "source": [
    "Add Armin's scripts. Jarron has a script that takes the power spectrum of long darks and decomposes it into a variety of white noise, 1/f noise (correlated between the 4 channels), and 1/f noise that is amplifier-dependent"
   ]
  },
  {
   "cell_type": "markdown",
   "metadata": {},
   "source": [
    "<a id='refpix'></a>\n",
    "## Reference pixel stability"
   ]
  },
  {
   "cell_type": "markdown",
   "metadata": {},
   "source": [
    "Add Jarron's script that looks at how stable reference pixels are versus how stable the active pixels are to get an idea of any instability between the two."
   ]
  }
 ],
 "metadata": {
  "kernelspec": {
   "display_name": "Python 3",
   "language": "python",
   "name": "python3"
  },
  "language_info": {
   "codemirror_mode": {
    "name": "ipython",
    "version": 3
   },
   "file_extension": ".py",
   "mimetype": "text/x-python",
   "name": "python",
   "nbconvert_exporter": "python",
   "pygments_lexer": "ipython3",
   "version": "3.9.1"
  }
 },
 "nbformat": 4,
 "nbformat_minor": 4
}

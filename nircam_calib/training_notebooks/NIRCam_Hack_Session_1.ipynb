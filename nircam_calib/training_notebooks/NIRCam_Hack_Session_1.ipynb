{
 "cells": [
  {
   "cell_type": "markdown",
   "metadata": {},
   "source": [
    "# Setting up Conda, AstroConda, and the JWST Pipeline"
   ]
  },
  {
   "cell_type": "markdown",
   "metadata": {},
   "source": [
    "This notebook walks you through installing the Conda package manager and setting up your own environments. You will learn how to set up an STScI AstroConda environment and a JWST Pipeline environment."
   ]
  },
  {
   "cell_type": "markdown",
   "metadata": {},
   "source": [
    "### Table of Contents:\n",
    "> #### 1. [Useful Links](#links)\n",
    "> #### 2. [General Information](#information)\n",
    "> #### 3. [Installing Conda](#conda)\n",
    "> #### 4. [Setting up an environment with the AstroConda packages](#astroconda)\n",
    "> #### 5. [Setting up a JWST pipeline environment](#pipeline)\n",
    "> #### 6. [Setting up a server environment](#server)\n",
    "> #### 7. [Starting a screen session](#screen)"
   ]
  },
  {
   "cell_type": "markdown",
   "metadata": {},
   "source": [
    "***\n",
    "<a id='links'></a>\n",
    "## 1. Useful Links"
   ]
  },
  {
   "cell_type": "markdown",
   "metadata": {},
   "source": [
    "* [New hire computer setup training](https://spacetelescope.github.io/training-library/computer_setup.html)\n",
    "* [Conda's documentation](https://conda.io/docs/index.html)\n",
    "* [Step-by-step description of what Conda can do](https://conda.io/docs/user-guide/getting-started.html)\n",
    "* [STScI's AstroConda installation instructions](https://astroconda.readthedocs.io/en/latest/getting_started.html)\n",
    "* [JWST Pipeline installation instructions](https://github.com/spacetelescope/jwst/blob/master/README.md)\n",
    "* [AstroConda slack channel](https://stsci.slack.com/messages/C4RDVMVHA/)\n",
    "* [Conda user cheat sheet](https://conda.io/docs/_downloads/conda-cheatsheet.pdf)"
   ]
  },
  {
   "cell_type": "markdown",
   "metadata": {},
   "source": [
    "***\n",
    "<a id='information'></a>\n",
    "## 2. General Information"
   ]
  },
  {
   "cell_type": "markdown",
   "metadata": {},
   "source": [
    "\n",
    "### What is Conda?\n",
    "\n",
    "Conda is the direct successor to Ureka, the previous STScI software package system. Conda is an open source package and environment management system that runs on Windows, macOS and Linux. It installs, runs and updates packages and their dependencies. It also creates, saves, loads and switches between environments on your local computer. It was created for Python programs, but it can package and distribute software for any language. [Click here](https://conda.io/docs/index.html) to read more about Conda.\n",
    "\n",
    "### Which Conda?\n",
    "\n",
    "STScI's software is compatible with both the Miniconda and Anaconda distributions. Miniconda includes only Conda's root environment and it's dependencies (it's the fastest way to install Conda). Anaconda is Continuum Analytics Inc.’s flagship product that provides a full-featured Conda root environment plus more than 720 useful tools, libraries, and utilities. The example below will show you how to install the Miniconda version.\n",
    "\n",
    "### What are environments?\n",
    "\n",
    "Suppose you have a program that requires an older version of Python or photutils, but you also want to be able to run the version that is required for the JWST pipeline. With Conda, you can have both – it allows you to easily set up and manage environments that have different versions of Python and/or other packages installed in them. To access a particular version of software, simply switch to that environment. Environments allow you to use or update software in one environment without breaking anything in your other environments. This is particularly important for software that is in development (e.g., JWST pipeline or JWST data analysis tools), as it often requires specific versions of packages in order to run. [Click here](https://conda.io/docs/user-guide/tasks/manage-environments.html) to read more about environments.\n"
   ]
  },
  {
   "cell_type": "markdown",
   "metadata": {},
   "source": [
    "***\n",
    "<a id='conda'></a>\n",
    "## 3. Installing Conda"
   ]
  },
  {
   "cell_type": "markdown",
   "metadata": {},
   "source": [
    "<div class=\"alert alert-block alert-info\">**Note:** Conda should be installed in the bash shell. The default shell for new computers at STScI is tcsh, so make sure to change it to bash. In the terminal, change your shell with the command:\n",
    "\n",
    "`chsh -s /bin/bash`\n",
    "\n",
    "Close your terminal and open a new one to finalize the change.\n",
    "</div>\n",
    "***\n",
    "\n",
    "In your terminal window, download the Miniconda3 installer with the following command:\n",
    "\n",
    ">`curl -OL https://repo.continuum.io/miniconda/Miniconda3-latest-MacOSX-x86_64.sh`\n",
    "\n",
    "You should now have a file named “Miniconda3-latest-MacOSX-x86_64.sh” in your home directory. To install it, type:\n",
    "\n",
    ">`bash Miniconda3-latest-MacOSX-x86_64.sh`\n",
    "\n",
    "Follow the instructions as prompted. Accept the default options to install in your home directory. Now, close that window and open a new terminal. Check to make sure your terminal can see the Conda command by typing:\n",
    "\n",
    ">`conda`\n",
    "\n",
    "You should see a list of command line options."
   ]
  },
  {
   "cell_type": "markdown",
   "metadata": {},
   "source": [
    "***\n",
    "<a id='astroconda'></a>\n",
    "## 4. Setting up an environment with the AstroConda packages"
   ]
  },
  {
   "cell_type": "markdown",
   "metadata": {},
   "source": [
    "With Conda, you can install all our own programs and packages. You want to use the Institute’s AstroConda repository since it includes most of the packages people use for their work. Tell Conda to do this with the following command:\n",
    "\n",
    ">`conda config --add channels http://ssb.stsci.edu/astroconda`\n",
    "\n",
    "Check out your root environment before adding some new ones. First, to see the list of environments, type:\n",
    "\n",
    ">`conda info --envs`\n",
    "\n",
    "or \n",
    "\n",
    ">`conda env list`\n",
    "\n",
    "You should only see your root environment. Create a new environment that will be your main environment that runs Python 3.5. The command takes a name and a list of packages to install. The stsci package pulls in everything else and we also want to make sure the Jupyter Notebook gets installed, so the command is:\n",
    "\n",
    ">`conda create --name astroconda python=3.5 stsci notebook`\n",
    "\n",
    "We called this environment astroconda because we are installing the main AstroConda packages into it, but you can name it whatever you want. This repository includes the usual Python packages (NumPy, Astropy, matplotlib, etc.) and also makes sure that you have IPython, Jupyter Notebook, and additional Institute-specific Python packages. Activate this environment and check to see exactly which packages have been added:\n",
    "\n",
    ">`source activate astroconda`\n",
    "\n",
    ">`conda list`\n",
    "\n",
    "To check the version of Python, type:\n",
    "\n",
    ">`python --version`\n",
    "\n",
    "Finally, you need to know how to add more packages (and delete them). If you are in the environment you are changing (i.e., you typed source activate `name of environment` already in the terminal), you do not need the `--name [name of environment]` part:\n",
    "\n",
    ">`conda install --name [name of environment] [name of package]`\n",
    "\n",
    ">`conda remove --name [name of environment] [name of package]`\n",
    "\n",
    "If you decide that you don’t need an environment, delete it with the following command:\n",
    "\n",
    ">`conda remove --name [name of environment] --all`"
   ]
  },
  {
   "cell_type": "markdown",
   "metadata": {},
   "source": [
    "***\n",
    "<a id='pipeline'></a>\n",
    "## 5. Setting up a JWST pipeline environment"
   ]
  },
  {
   "cell_type": "markdown",
   "metadata": {},
   "source": [
    "<div class=\"alert alert-block alert-warning\">**Warning:** The JWST pipeline requires Python 3.5 or above.</div>\n",
    "***"
   ]
  },
  {
   "cell_type": "markdown",
   "metadata": {},
   "source": [
    "### Stable Version\n",
    "\n",
    "To install a particular released version of the package and all its dependencies, you should use the spec file that lists the exact versions of all packages to be installed. Create a new environment for the pipeline using:\n",
    "\n",
    ">`conda create -n <jwst_name> --file <URL>`\n",
    "\n",
    ">`source activate <jwst_name>`\n",
    "\n",
    "where `<jwst_name>` is the name you choose for the environment and `<URL>` is of the form:\n",
    "\n",
    ">`Linux: http://ssb.stsci.edu/releases/jwstdp/0.11.0/latest-linux`\n",
    "\n",
    ">`OS X: http://ssb.stsci.edu/releases/jwstdp/0.11.0/latest-osx`\n",
    "\n",
    "Other versions can be installed by choosing a different version tag in place of \"0.11.0\" in the URL path. See the \"Software vs DMS build version map\" table [on this page](https://github.com/spacetelescope/jwst) for a list of tags corresponding to particular releases.\n",
    "\n",
    "To update to the latest nightly build: \n",
    "\n",
    ">`conda update -n <jwst_name> --override-channels -c http://ssb.stsci.edu/astroconda-dev -c defaults --all`"
   ]
  },
  {
   "cell_type": "markdown",
   "metadata": {},
   "source": [
    "### Development version\n",
    "\n",
    "To install the latest development build, use the following command (substitute your own name in `<jwst_dev>`):\n",
    "\n",
    ">`conda create -n <jwst_dev> -c http://ssb.stsci.edu/conda-dev jwst`\n",
    "\n",
    "And activate it with:\n",
    "\n",
    ">`source activate <jwst_dev>`\n",
    "\n",
    "To update to the latest build:\n",
    "\n",
    ">`conda update -n <jwst_dev> --override-channels -c http://ssb.stsci.edu/conda-dev -c defaults --all`"
   ]
  },
  {
   "cell_type": "markdown",
   "metadata": {},
   "source": [
    "***\n",
    "<a id='server'></a>\n",
    "## 6. Setting up a server environment"
   ]
  },
  {
   "cell_type": "markdown",
   "metadata": {},
   "source": [
    "The previous sections installed Conda and set up environments on your local computer. STScI also has several (mostly) Linux servers available, and they are particularly useful for long-running tasks that shouldn't be interrupted or computationally-heavy processes. In these cases, it is useful to have Conda set up on one of the servers listed in the table below."
   ]
  },
  {
   "cell_type": "markdown",
   "metadata": {},
   "source": [
    "| Server hostname | Use |\n",
    "| --- | --- |\n",
    "| plhstins1 | INS HST functional work |\n",
    "| plhstins2 | INS HST functional work |\n",
    "| plhstins3 | INS HST functional work |\n",
    "| witserv1 | INS HST functional work |\n",
    "| witserv2 | INS HST functional work |\n",
    "| witserv3 | INS HST functional work |\n",
    "| science1 | Science / research use |\n",
    "| science2 | Science / research use |\n",
    "| science3 | Science / research use |\n",
    "| science4 | Science / research use |\n",
    "| science5 | Science / research use |\n",
    "| science6 | Science / research use |\n",
    "| plscigpu1 | GPU computing |\n",
    "| plscigpu2 | GPU computing |"
   ]
  },
  {
   "cell_type": "markdown",
   "metadata": {},
   "source": [
    "Connect to a server by typing:\n",
    "    \n",
    ">`ssh -XY <hostname>`\n",
    "\n",
    "where `<hostname>` is the name of one of the servers and `-XY` enables X forwarding of displays to your personal monitor.\n",
    "\n",
    "Then, you need to install Conda again since you installed the Mac version earlier on your local machine and the Linux servers won't be able to access it. You only need to do this once on one of the servers – then, anytime you `ssh` into any other server Conda will already be set up.\n",
    "\n",
    "Change your shell from the default tcsh to bash by typing:\n",
    "\n",
    ">`bash`\n",
    "\n",
    "Then, change directories to your Central Store directory:\n",
    "\n",
    ">`cd \"/user/$(logname)\"`\n",
    "\n",
    "Download and install the latest Miniconda for Linux using `curl`:\n",
    "\n",
    ">`curl -OL https://repo.continuum.io/miniconda/Miniconda3-latest-Linux-x86_64.sh`\n",
    "\n",
    ">`bash Miniconda3-latest-Linux-x86_64.sh -b -p \"/user/$(logname)/miniconda3`\n",
    "\n",
    "After that finishes, you have to add your miniconda folder to the `$PATH` on the server for the `conda` command to work.\n",
    "\n",
    ">`echo \"export PATH=\\\"/user/$(logname)/miniconda3/bin:\\$PATH\\\"\" >> ~/.bashrc`\n",
    "\n",
    "There are lines in the default `.bash_profile` that comes with your account to ensure your `.bashrc` gets loaded, so you shouldn’t need to edit `.bash_profile`.\n",
    "\n",
    "Log out and `ssh` to the server again:\n",
    "\n",
    ">`exit`\n",
    "\n",
    ">`ssh -XY witserv1`\n",
    "\n",
    "The `conda` command works with `bash`, not `tcsh`, so you have to start a `bash` shell on the server you choose:\n",
    "\n",
    ">`bash`\n",
    "\n",
    ">`which conda`\n",
    "\n",
    "Once Conda is installed, you can then follow the [AstroConda](#astroconda) or [JWST Pipeline environment](#pipeline) set up instructions again for your server environments."
   ]
  },
  {
   "cell_type": "markdown",
   "metadata": {},
   "source": [
    "***\n",
    "<a id='screen'></a>\n",
    "## 7. Starting a screen session"
   ]
  },
  {
   "cell_type": "markdown",
   "metadata": {},
   "source": [
    "The `screen` tool makes working with the servers more flexible. `screen` lets you detach from a running session, shut down your computer or disconnect, and then reattach to it later.\n",
    "\n",
    "`ssh` into a server:\n",
    "\n",
    ">`ssh -XY <hostname>`\n",
    "\n",
    "And then start a `screen` session with a name of your choice:\n",
    "\n",
    ">`screen -S <your_screen_name>`\n",
    "\n",
    "The terminal window will clear and then you can continue with activating the environment you want and running your program. For example, starting a long-running pipeline script:\n",
    "\n",
    ">`bash`\n",
    "\n",
    ">`source activate my_pipeline_environment`\n",
    "\n",
    ">`python run_long_code.py`\n",
    "\n",
    "While it's running, you use a magic key command to detach from the `screen` session.\n",
    "\n",
    "**To detach, type: Ctrl-a and then d**. The script output will disappear and you'll return to the normal `tcsh` prompt you see after logging into the server.\n",
    "\n",
    "Later, when you want to reattach to your session, you can list the `screen` sessions by typing:\n",
    "\n",
    ">`screen -r <your_screen_name>`\n",
    "\n",
    "When your script has finished running, you exit the `screen` session by simply typing `exit` and the session terminates."
   ]
  }
 ],
 "metadata": {
  "kernelspec": {
   "display_name": "Python 3",
   "language": "python",
   "name": "python3"
  },
  "language_info": {
   "codemirror_mode": {
    "name": "ipython",
    "version": 3
   },
   "file_extension": ".py",
   "mimetype": "text/x-python",
   "name": "python",
   "nbconvert_exporter": "python",
   "pygments_lexer": "ipython3",
   "version": "3.5.4"
  }
 },
 "nbformat": 4,
 "nbformat_minor": 1
}

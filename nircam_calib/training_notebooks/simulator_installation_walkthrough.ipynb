{
 "cells": [
  {
   "cell_type": "markdown",
   "metadata": {},
   "source": [
    "# MIRAGE Installation Walkthrough"
   ]
  },
  {
   "cell_type": "markdown",
   "metadata": {},
   "source": [
    "This notebook helps you get started with installing and running Bryan Hilbert's simulator, MIRAGE (Multi-Instrument RAmp GEnerator). "
   ]
  },
  {
   "cell_type": "markdown",
   "metadata": {},
   "source": [
    "### Table of Contents:\n",
    "> #### 1. [Resources and Documentation](#resources)\n",
    "> #### 2. [Conda and Astroconda Environment Setup](#setup)\n",
    "> #### 3. [Pipeline Environment Setup and Installation](#pipeinstallation)\n",
    "> #### 4. [Installing the Simulator](#siminstall)\n",
    "> #### 5. [Simulator Dependencies](#dependencies)\n",
    "> #### 6. [Simulating Data with iPython](#ipython)"
   ]
  },
  {
   "cell_type": "markdown",
   "metadata": {},
   "source": [
    "***\n",
    "<a id='resources'></a>\n",
    "## 1. Resources and Documentation"
   ]
  },
  {
   "cell_type": "markdown",
   "metadata": {},
   "source": [
    "The Github repository containing the simulator can be found here: https://github.com/spacetelescope/nircam_simulator\n",
    "\n",
    "Bryan wrote a TR called \"The NIRCam Data Simulator Handbook\" (JWST-STScI-006219) that will be available in SOCCER after the review process is finished. \n",
    "\n",
    "This notebook will give a description of how to set up your environment(s) to run the simulator."
   ]
  },
  {
   "cell_type": "markdown",
   "metadata": {},
   "source": [
    "***\n",
    "<a id='setup'></a>\n",
    "## 2. Conda and Astroconda Environment Setup"
   ]
  },
  {
   "cell_type": "markdown",
   "metadata": {},
   "source": [
    "<div class=\"alert alert-block alert-warning\">**Note:** If you already have your Conda, AstroConda, or JWST pipeline environment setup and working, skip to the [Simulator Installation](#siminstall) section.</div>\n",
    "***\n",
    "\n",
    "To run the simulator, you need to have the Conda environment set up and STScI's AstroConda software installed. This is also useful because most JWST post-pipeline data analysis tools are distributed as part of AstroConda (JDox page: https://jwst-docs.stsci.edu/display/JDAT/JWST+Post-Pipeline+Data+Analysis). Additionally, if you want to run the JWST Science Calibration Pipeline, you will first need to set up Conda. \n",
    "\n",
    "Conda is a package manager application that installs, runs, and updates packages and their dependencies, and it works on Linux, OS X and Windows. You must have the Conda software installed before you can install the STScI or JWST pipeline package from the AstroConda channel. Full details on downloading and installing Conda can be found here: http://astroconda.readthedocs.io/en/latest/getting_started.html. \n",
    "\n",
    "After installing Conda, you can then install STScI's programs and packages. You'll want to use the Institute’s AstroConda repository by typing in the command line (of your Conda environment):\n",
    "\n",
    ">`$ conda config --add channels http://ssb.stsci.edu/astroconda`\n",
    "\n",
    "Then, setup your AstroConda environment:\n",
    "\n",
    ">`$ conda create -n astroconda stsci`\n",
    "\n",
    "and activate it by typing:\n",
    "\n",
    ">`$ source activate astroconda`\n",
    "\n",
    "And to deactivate it, type: \n",
    "\n",
    ">`$ source deactivate`"
   ]
  },
  {
   "cell_type": "markdown",
   "metadata": {},
   "source": [
    "***\n",
    "<a id='pipeinstallation'></a>\n",
    "## 3. Pipeline Environment Setup and Installation"
   ]
  },
  {
   "cell_type": "markdown",
   "metadata": {},
   "source": [
    "If you also want to be able to run the JWST Science Calibration pipeline within the simulator or on your simulated data, you can use Conda to set up your pipeline environment. \n",
    "\n",
    "To read more on JWST Science Calibration Pipeline installation, see these links:\n",
    "\n",
    ">1. Installation page and code repository: https://github.com/spacetelescope/jwst/blob/master/README.md\n",
    ">2. Detailed pipeline information: https://jwst-pipeline.readthedocs.io/en/latest/jwst/introduction.html\n",
    ">3. Help Desk (click on Pipeline Support): https://stsci.service-now.com/jwst?id=sc_category&sys_id=e15706fc0a0a0aa7007fc21e1ab70c2f\n",
    "\n",
    "Pipeline release files are snapshots of STScI software and can be used to replicate the environment used by STScI to perform data processing.\n",
    "\n",
    "<div class=\"alert alert-block alert-warning\">**Note:** Python 2.x.x and 32-bit operating systems are not supported.</div>\n",
    "***\n",
    "\n",
    "To install a particular released version of the package and all its dependencies, you should use the spec file that lists the exact versions of all packages to be installed. Create a new environment for the pipeline using:\n",
    "\n",
    ">`$ conda create -n [custom_env_name] --file [URL]`\n",
    "\n",
    "where [custom_env_name] is the name you choose for the environment and [URL] is of the form:\n",
    "\n",
    ">`Linux: http://ssb.stsci.edu/releases/jwstdp/0.11.0/latest-linux`\n",
    "\n",
    ">`OS X: http://ssb.stsci.edu/releases/jwstdp/0.11.0/latest-osx`\n",
    "\n",
    "Other versions can be installed by choosing a different version tag in place of \"0.11.0\" in the URL path. See the \"Software vs DMS build version map\" table [on this page](https://github.com/spacetelescope/jwst/blob/master/README.md) for a list of tags corresponding to particular releases.\n",
    "\n",
    "Finally, to activate your pipeline environment type: \n",
    "\n",
    ">`$ source activate [custom_env_name]`\n",
    "\n",
    "Example for Mac OS X:\n",
    "\n",
    ">`$ conda create -n demoenv0.11.0 --file http://ssb.stsci.edu/releases/jwstdp/0.11.0/latest-linux`\n",
    "\n",
    ">`$ source activate demoenv0.11.0`\n",
    "\n",
    "To run the pipeline in this notebook, you must open the notebook from within your pipeline environment. \"shift+enter\" is the hot key to run a cell of the notebook.\n",
    "\n",
    "\n",
    "To update to the latest nightly build:\n",
    "\n",
    ">`$ conda update -n <jwst_name> --override-channels -c http://ssb.stsci.edu/astroconda-dev -c defaults --all`\n",
    "\n",
    "<div class=\"alert alert-block alert-warning\">**Note:** Upgrading packages with `$ conda update [pkg]` or `$ conda update --all` is **not** recommended (it will likely introduce bugs and/or break the environment).</div>\n",
    "***"
   ]
  },
  {
   "cell_type": "markdown",
   "metadata": {},
   "source": [
    "### Development version"
   ]
  },
  {
   "cell_type": "markdown",
   "metadata": {},
   "source": [
    "To get the latest pipeline version with recent updates and fixes to the Stage 2 and Stage 3 pipeline steps, install the development version.\n",
    "\n",
    ">`$ conda create -n jwstdev -c http://ssb.stsci.edu/conda-dev jwst`\n",
    "\n",
    "To update the development version of the pipeline:\n",
    "    \n",
    ">`$ conda update --override-channels -c http://ssb.stsci.edu/conda-dev -c defaults --all`"
   ]
  },
  {
   "cell_type": "markdown",
   "metadata": {},
   "source": [
    "***\n",
    "<a id='siminstall'></a>\n",
    "## 4. Installing the Simulator"
   ]
  },
  {
   "cell_type": "markdown",
   "metadata": {},
   "source": [
    "To run the simulator and use the pipeline, you should install it from within your pipeline environment. Otherwise, you can just install it from within your AstroConda environment. Use `git` to install the simulator software. If you aren't familiar with Github and version control, this is a great page to get you started: http://stsci-riab.github.io/riatraining/version_control.html"
   ]
  },
  {
   "cell_type": "markdown",
   "metadata": {},
   "source": [
    "Switch to the correct environment, if you haven't already: \n",
    "\n",
    ">`source activate astroconda`\n",
    "\n",
    "or \n",
    "\n",
    ">`source activate jwst_pipeline_env`\n",
    "\n",
    "Then, clone the Github repository (or download it directly from the Github page (green \"download\" button): https://github.com/spacetelescope/nircam_simulator):\n",
    "\n",
    ">`$ git clone https://github.com/spacetelescope/nircam_simulator.git` \n",
    "\n",
    "\n",
    "After cloning or downloading the repository, use the terminal to run the setup script. First, go to the directory where you downloaded or cloned the software. Then, change to the \"nircam_simulator\" directory:\n",
    "\n",
    ">`$ cd <your_simulator_directory>/nircam_simulator/`\n",
    "\n",
    ">`$ ls -lrt`\n",
    "\n",
    "        -rwxr-xr-x  1 acanipe  STSCI\\science   877 Apr  3 17:21 setup.py\n",
    "        drwxr-xr-x  7 acanipe  STSCI\\science   238 Apr  3 17:21 nircam_simulator\n",
    "        -rwxr-xr-x  1 acanipe  STSCI\\science  6632 Apr  3 17:21 README.md\n",
    "        -rwxr-xr-x  1 acanipe  STSCI\\science   586 Apr  3 17:21 MANIFEST.in"
   ]
  },
  {
   "cell_type": "markdown",
   "metadata": {},
   "source": [
    "Run the setup script:\n",
    "\n",
    ">`$ python setup.py install`"
   ]
  },
  {
   "cell_type": "markdown",
   "metadata": {},
   "source": [
    "After running the setup script, if you look at the directory you should see this:\n",
    "\n",
    "\n",
    ">`$ ls -lrt`\n",
    "\n",
    "        -rwxr-xr-x  1 acanipe  STSCI\\science   877 Apr  3 17:21 setup.py\n",
    "        drwxr-xr-x  7 acanipe  STSCI\\science   238 Apr  3 17:21 nircam_simulator\n",
    "        -rwxr-xr-x  1 acanipe  STSCI\\science  6632 Apr  3 17:21 README.md\n",
    "        -rwxr-xr-x  1 acanipe  STSCI\\science   586 Apr  3 17:21 MANIFEST.in\n",
    "        drwxr-xr-x  6 acanipe  STSCI\\science   204 Apr  3 17:22 nircam_simulator.egg-info\n",
    "        drwxr-xr-x  4 acanipe  STSCI\\science   136 Apr  3 17:22 build\n",
    "        drwxr-xr-x  3 acanipe  STSCI\\science   102 Apr  3 17:22 dist    "
   ]
  },
  {
   "cell_type": "markdown",
   "metadata": {},
   "source": [
    "***\n",
    "<a id='dependencies'></a>\n",
    "## 5. Simulator Dependencies"
   ]
  },
  {
   "cell_type": "markdown",
   "metadata": {},
   "source": [
    "**Required**: \n",
    "\n",
    "For background signals: \n",
    "* https://github.com/spacetelescope/jwst_backgrounds: Generate JWST Exposure Time Calculator-type backgrounds (zodiacal+thermal)\n",
    "* install this by typing: \n",
    ">`$ pip install jwst_backgrounds`\n",
    "\n",
    "**Optional**:\n",
    "\n",
    "Calibration pipeline: \n",
    "As previously mentioned, it may be useful for you to use the JWST pipeline for your simulations, so you should have set up your pipeline environment. \n",
    "\n",
    "To simulate wide field slitless spectroscopy (WFSS) data, you need: \n",
    "* https://github.com/npirzkal/NIRCAM_Gsim: to disperse imaging data \n",
    "* https://github.com/npirzkal/GRISM_NIRCAM: NIRCam-specific grism configuration and sensitivity files \n",
    "* https://github.com/npirzkal/GRISMCONF: grism dispersion polynomials|"
   ]
  },
  {
   "cell_type": "markdown",
   "metadata": {},
   "source": [
    "***\n",
    "<a id='ipython'></a>\n",
    "## 6. Simulating Data with iPython"
   ]
  },
  {
   "cell_type": "markdown",
   "metadata": {},
   "source": [
    "At the moment, the most straightforward way to run the simulator involves using iPython, or the Jupyter notebooks provided in the `examples` directory. The Jupyter notebooks have the extension `.ipynb`."
   ]
  },
  {
   "cell_type": "markdown",
   "metadata": {},
   "source": [
    "From the `nircam_simulator` directory, you can go to iPython:\n",
    "\n",
    "```python\n",
    "(astroconda) icecap:pipeline_notebooks acanipe$ ipython\n",
    "Python 3.5.4 |Anaconda, Inc.| (default, Nov  8 2017, 18:11:28) \n",
    "Type 'copyright', 'credits' or 'license' for more information\n",
    "IPython 6.1.0 -- An enhanced Interactive Python. Type '?' for help.\n",
    "\n",
    "In [1]: \n",
    "```\n",
    "\n",
    "or if you want to use one of the notebooks to begin with, just move the contents of the `examples` directory to your `nircam_simulator/` directory and open them by typing:\n",
    "\n",
    ">`$ jupyter notebook imaging_simulator_use_examples.ipynb`"
   ]
  },
  {
   "cell_type": "markdown",
   "metadata": {},
   "source": [
    "From this point, you should be able to follow along with any of the examples given in Bryan's `examples` directory. You can paste the contents of the Jupyter example notebooks in the iPython terminal, or just run the notebook cells. For example, you can paste the text below into your iPython terminal (it's the same as the contents of the imaging example notebook):\n",
    "\n",
    "```python\n",
    "# Set the NIRCAM_SIM_DATA environment variable if it is not\n",
    "# set already. This is for users at STScI.\n",
    "import os\n",
    "os.environ['NIRCAM_SIM_DATA'] = '/ifs/jwst/wit/nircam/nircam_simulator_data'\n",
    "\n",
    "# Import the three steps of the simulator. \n",
    "from nircam_simulator.scripts import catalog_seed_image\n",
    "from nircam_simulator.scripts import dark_prep\n",
    "from nircam_simulator.scripts import obs_generator\n",
    "from nircam_simulator.scripts import imaging_simulator\n",
    "\n",
    "# Use the example parameter file provided, \"imaging_test.yaml\"\n",
    "m = imaging_simulator.ImgSim()\n",
    "m.paramfile = \"imaging_test.yaml\"\n",
    "m.create()\n",
    "```\n",
    "\n",
    "This will run a simulation according to the settings inside `imaging_test.yaml`."
   ]
  },
  {
   "cell_type": "markdown",
   "metadata": {},
   "source": [
    "If the simulation runs correctly to completion, you should see the following new files in the directory: \n",
    "    \n",
    "        V42424024002P000000000112o_B5_F250M_uncal.fits\n",
    "        V42424024002P000000000112o_B5_F250M_linear.fits\n",
    "        V42424024002P000000000112o_B5_F250M_uncal_cosmicrays.list\n",
    "        V42424024002P000000000112o_B5_F250M_uncal_linear_dark_prep_object.fits\n",
    "        V42424024002P000000000112o_B5_F250M_uncal_F250M_seed_image.fits\n",
    "        V42424024002P000000000112o_B5_F250M_uncal_galaxySources.list\n",
    "        V42424024002P000000000112o_B5_F250M_uncal_pointsources.list"
   ]
  },
  {
   "cell_type": "markdown",
   "metadata": {},
   "source": [
    "A brief description of these files:\n",
    "\n",
    "* `V42424024002P000000000112o_B5_F250M_uncal.fits` is the raw exposure in DMS format, meaning that it has all the necessary headers and the expected format to go through the calibration pipeline. \n",
    "\n",
    "* `V42424024002P000000000112o_B5_F250M_linear.fits` is the linearized simulated exposure that has been run through the saturation, superbias, reference pixel, jump, and linearity corrections of the pipeline. To get a slope image, just run this through the ramp-fitting step of the calibration pipeline. \n",
    "\n",
    "* `V42424024002P000000000112o_B5_F250M_uncal_cosmicrays.list` is a list of cosmic rays that have been added\n",
    "\n",
    "* `V42424024002P000000000112o_B5_F250M_uncal_linear_dark_prep_object.fits` is the dark exposure used by the simulator\n",
    "\n",
    "* `V42424024002P000000000112o_B5_F250M_uncal_F250M_seed_image.fits` is the seed image containing added sources\n",
    "\n",
    "* `V42424024002P000000000112o_B5_F250M_uncal_galaxySources.list` is the list of galaxy sources added\n",
    "\n",
    "* `V42424024002P000000000112o_B5_F250M_uncal_pointsources.list` is the list of point sources added"
   ]
  }
 ],
 "metadata": {
  "kernelspec": {
   "display_name": "Python 3",
   "language": "python",
   "name": "python3"
  },
  "language_info": {
   "codemirror_mode": {
    "name": "ipython",
    "version": 3
   },
   "file_extension": ".py",
   "mimetype": "text/x-python",
   "name": "python",
   "nbconvert_exporter": "python",
   "pygments_lexer": "ipython3",
   "version": "3.5.4"
  }
 },
 "nbformat": 4,
 "nbformat_minor": 1
}

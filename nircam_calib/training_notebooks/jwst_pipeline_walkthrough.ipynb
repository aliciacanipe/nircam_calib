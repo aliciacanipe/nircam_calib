{
 "cells": [
  {
   "cell_type": "markdown",
   "metadata": {},
   "source": [
    "# JWST Science Calibration Pipeline Walkthrough"
   ]
  },
  {
   "cell_type": "markdown",
   "metadata": {},
   "source": [
    "This notebook walks through how to install and run the JWST Science Calibration Pipeline (the pipeline).  "
   ]
  },
  {
   "cell_type": "markdown",
   "metadata": {},
   "source": [
    "### Table of Contents:\n",
    "> #### 1. [Resources and Documentation](#resources)\n",
    "> #### 2. [Environment Setup](#setup)\n",
    "> #### 3. [Pipeline Installation](#installation)\n",
    "> #### 4. [Pipeline Overview](#overview)\n",
    "> #### 5. [Data Format](#format)\n",
    "> #### 6. [Configuration Files](#configs)\n",
    "> #### 7. [Ways to Run the Pipelines](#methods)\n",
    "> #### 8. [Example Data Set](#data)\n",
    "> #### 9. [Stage 1 Processing: Ramps-to-slopes](#rampstoslopes)\n",
    "> #### 10. [Stage 2 Image Processing: Calibrated individual exposures](#image2)\n",
    "> #### 11. [Stage 3 Image Processing: Source catalogs and mosaics](#image3)\n",
    "> #### 12. [Stage 2 Spectroscopic Processing: Calibrated individual exposures](#spec2)"
   ]
  },
  {
   "cell_type": "markdown",
   "metadata": {},
   "source": [
    "***\n",
    "<a id='resources'></a>\n",
    "## 1. Resources and Documentation"
   ]
  },
  {
   "cell_type": "markdown",
   "metadata": {},
   "source": [
    "There are several different places to find information on installing and running the pipeline. This notebook will give a shortened description of the steps pulled from the detailed pipeline information pages, but to find more in-depth instructions use the links below. \n",
    "\n",
    ">1. Installation page and code repository: https://github.com/spacetelescope/jwst/blob/master/README.md\n",
    ">2. Detailed pipeline information: https://jwst-pipeline.readthedocs.io/en/latest/jwst/introduction.html\n",
    ">3. Help Desk (click on Pipeline Support): https://stsci.service-now.com/jwst?id=sc_category&sys_id=e15706fc0a0a0aa7007fc21e1ab70c2f"
   ]
  },
  {
   "cell_type": "markdown",
   "metadata": {},
   "source": [
    "***\n",
    "<a id='setup'></a>\n",
    "## 2. Environment Setup"
   ]
  },
  {
   "cell_type": "markdown",
   "metadata": {},
   "source": [
    "Conda is a package manager application that installs, runs, and updates packages and their dependencies, and it works on Linux, OS X and Windows. You must have the Conda software installed before you can install the JWST package from the AstroConda channel. Full details on downloading and installing Conda can be found here: https://conda.io/docs/user-guide/install/download.html. \n",
    "\n",
    "\n",
    "After installing Conda, you can then install STScI's programs and packages. You'll want to use the Institute’s AstroConda repository by typing in the command line (of your Conda environment):\n",
    "\n",
    ">`$ conda config --add channels http://ssb.stsci.edu/astroconda`"
   ]
  },
  {
   "cell_type": "markdown",
   "metadata": {},
   "source": [
    "***\n",
    "<a id='installation'></a>\n",
    "## 3. Pipeline Installation"
   ]
  },
  {
   "cell_type": "markdown",
   "metadata": {},
   "source": [
    "Pipeline release files are snapshots of STScI software and can be used to replicate the environment used by STScI to perform data processing.\n",
    "\n",
    "<div class=\"alert alert-block alert-warning\">**Note:** Python 2.x.x and 32-bit operating systems are not supported.</div>\n",
    "***\n",
    "\n",
    "To install a particular released version of the package and all its dependencies, you should use the spec file that lists the exact versions of all packages to be installed. Create a new environment for the pipeline using:\n",
    "\n",
    ">`$ conda create -n [custom_env_name] --file [URL]`\n",
    "\n",
    "where [custom_env_name] is the name you choose for the environment and [URL] is of the form:\n",
    "\n",
    ">`Linux: http://ssb.stsci.edu/releases/jwstdp/0.11.0/latest-linux`\n",
    "\n",
    ">`OS X: http://ssb.stsci.edu/releases/jwstdp/0.11.0/latest-osx`\n",
    "\n",
    "Other versions can be installed by choosing a different version tag in place of \"0.11.0\" in the URL path. See the \"Software vs DMS build version map\" table [on this page](https://github.com/spacetelescope/jwst/blob/master/README.md) for a list of tags corresponding to particular releases.\n",
    "\n",
    "Finally, to activate your pipeline environment type: \n",
    "\n",
    ">`$ source activate [custom_env_name]`\n",
    "\n",
    "Example for Mac OS X:\n",
    "\n",
    ">`$ conda create -n demoenv0.11.0 --file http://ssb.stsci.edu/releases/jwstdp/0.11.0/latest-linux`\n",
    "\n",
    ">`$ source activate demoenv0.11.0`\n",
    "\n",
    "To run the pipeline in this notebook, you must open the notebook from within your pipeline environment. \"shift+enter\" is the hot key to run a cell of the notebook.\n",
    "\n",
    "\n",
    "To update to the latest nightly build:\n",
    "\n",
    ">`$ conda update -n <jwst_name> --override-channels -c http://ssb.stsci.edu/astroconda-dev -c defaults --all`\n",
    "\n",
    "<div class=\"alert alert-block alert-warning\">**Note:** Upgrading packages with `$ conda update [pkg]` or `$ conda update --all` is **not** recommended (it will likely introduce bugs and/or break the environment).</div>\n",
    "***\n"
   ]
  },
  {
   "cell_type": "markdown",
   "metadata": {},
   "source": [
    "### Development version"
   ]
  },
  {
   "cell_type": "markdown",
   "metadata": {},
   "source": [
    "To install the development version of the repository, use the [astroconda](https://astroconda.readthedocs.io/en/latest/) channel to install the dependencies, and then install it from the GitHub repository (substitute your own name in <jwst_dev>): \n",
    "\n",
    ">`$ conda create -n <jwst_dev> --only-deps --override-channels -c http://ssb.stsci.edu/astroconda-dev -c defaults python=3.6 jwst`\n",
    "\n",
    "And activate it with:\n",
    "\n",
    ">`$ source activate <jwst_dev>`\n",
    "\n",
    "Then run the set-up script:\n",
    "\n",
    ">`$ git clone https://github.com/spacetelescope/jwst.git`\n",
    "\n",
    ">`$ cd jwst`\n",
    "\n",
    ">`$ python setup.py develop`\n",
    "\n",
    "Once installed, the software can be updated to the latest development version by updating the dependencies, pulling the latest version of master from the GitHub repository inside the jwst directory:\n",
    "    \n",
    ">`$ conda update -n jwst_dev --override-channels -c http://ssb.stsci.edu/astroconda-dev -c defaults --all`\n",
    "\n",
    ">`$ git pull origin master`\n",
    "\n",
    ">`$ python setup.py develop`"
   ]
  },
  {
   "cell_type": "markdown",
   "metadata": {},
   "source": [
    "### Reference file access for outside users"
   ]
  },
  {
   "cell_type": "markdown",
   "metadata": {},
   "source": [
    "People at STScI should automatically have access to the Calibration Reference Data System (CRDS) cache for running the pipeline. For outside users, one arrangement is to have the CRDS server download the reference files to your local system and then use them locally when running the pipeline. To do that, the appropriate instructions are:\n",
    "\n",
    ">`$ export CRDS_PATH=$HOME/crds_cache`\n",
    "\n",
    ">`$ export CRDS_SERVER_URL=https://jwst-crds.stsci.edu`\n",
    "\n",
    "The first time you invoke the pipeline, the Calibration Reference Data System (CRDS) server should download all the context and reference files that are needed and dump them into the CRDS_PATH directory. Subsequent executions of the pipeline will first look to see if it has what it needs in CRDS_PATH and anything it doesn't have will again be downloaded from the STScI cache. Otherwise, reference files will have to be transferred to you via some other method and then copied manually into the CRDS_PATH directory. Of course, if you have local copies of the reference files on your machine, you can manually override the reference files with each pipeline call, but that can be a hassle. \n",
    "\n",
    "There is also a way to remotely access reference files in the CRDS cache here at STScI; however, due to network bandwidth limitations that will most likely be very slow and is not discussed here. "
   ]
  },
  {
   "cell_type": "markdown",
   "metadata": {},
   "source": [
    "***\n",
    "<a id='overview'></a>\n",
    "## 4. Pipeline Overview"
   ]
  },
  {
   "cell_type": "markdown",
   "metadata": {},
   "source": [
    "The get an idea of the overall structure of the pipeline, take a look at the image on [this page](https://jwst-docs.stsci.edu/display/JDAT/Stages+of+Processing).\n",
    "\n",
    "There are more [detailed pages](https://jwst-pipeline.readthedocs.io/en/latest/jwst/introduction.html) describing calibration steps and algorithms, step inputs and outputs, reference files, and tools included in the pipeline package (e.g., `collect_pipeline_cfgs`, `asn_from_list`, etc.)\n",
    "\n",
    "All of the code for the pipeline can be accessed from the [GitHub repository](https://github.com/spacetelescope/jwst)."
   ]
  },
  {
   "cell_type": "markdown",
   "metadata": {},
   "source": [
    "***\n",
    "<a id='format'></a>\n",
    "## 5. Data Format"
   ]
  },
  {
   "cell_type": "markdown",
   "metadata": {},
   "source": [
    "Data Management System (DMS) requires that the data array for imaging and spectroscopy modes (including reference files) be re-oriented to the same orientation with respect to the V2, V3 axes in the focal plane. This requires flipping and rotating the reference pixels and science coordinates. This [JDox page](https://jwst-docs.stsci.edu/display/JDAT/Coordinate+Systems+and+Transformations) shows the raw coordinates of the detector (red squares) and those corresponding to the science orientation (green squares). Raw orientation is the “native” readout coordinate frame (i.e., FITSWriter output)."
   ]
  },
  {
   "cell_type": "markdown",
   "metadata": {},
   "source": [
    "Aside from orientation, the format of the data going into the pipeline is different from the FITSWriter format. Science data is in the SCI extension, rather than the PRIMARY extension, as shown below: \n",
    "  \n",
    "\n",
    "**FITSWriter format (science data in the PRIMARY extension)**:\n",
    "\n",
    "        No.    Name         Type      Cards   Dimensions   Format\n",
    "            0  PRIMARY     PrimaryHDU     381   (320, 320, 20) int16 (rescales to uint16)  \n",
    "            1  ENG         BinTableHDU     15   78148R x 3C  [30A, 30A, 30A\n",
    "\n",
    "**DMS format (science data in the SCI extension)**:\n",
    "\n",
    "        No.    Name         Type      Cards   Dimensions   Format\n",
    "            0  PRIMARY       1 PrimaryHDU      69   ()    \n",
    "            1  SCI           1 ImageHDU        38   (2048, 2048, 10, 1)   int16 (rescales to uint16)  \n",
    "            2  ZEROFRAME     1 ImageHDU        11   (2048, 2048, 1)   int16 (rescales to uint16)  \n",
    "            3  GROUP         1 BinTableHDU     35   10R x 13C   [I, I, I, J, I, 26A, I, I, I, I, 36A, D, D] "
   ]
  },
  {
   "cell_type": "markdown",
   "metadata": {},
   "source": [
    "***\n",
    "<a id='configs'></a>\n",
    "## 6. Configuration Files"
   ]
  },
  {
   "cell_type": "markdown",
   "metadata": {},
   "source": [
    "<div class=\"alert alert-block alert-warning\">**Note:** To avoid having to deal with a bunch of configuration files, we will show how to change the parameters within iPython in the [next](#methods) section.</div>\n",
    "***\n",
    "\n",
    "\n",
    "Configuration files tell the pipeline how to run the pipeline steps. You can get them by typing in the command line:\n",
    "\n",
    ">`$ collect_pipeline_cfgs ./`\n",
    "\n",
    "\n",
    "This grabs all configuration files, for all steps, for all JWST Instruments. The default parameters in the config files are not all optimized for NIRCam. For example, the reference pixel correction step config file (\"refpix.cfg\") needs to be edited so that the mean value in the reference pixels for each amplifier is calculated separately for odd and even rows (there is a significant odd-even row effect).\n",
    "\n",
    "Change the \"refpix.cfg\" file to match the example below and save it:\n",
    "\n",
    "        name = \"refpix\"\n",
    "        class = \"jwst.refpix.RefPixStep\"\n",
    "        odd_even_columns = True\n",
    "        use_side_ref_pixels = True\n",
    "        side_smoothing_length=11\n",
    "        side_gain=1.0\n",
    "        odd_even_rows = False\n",
    "        \n",
    "There are other parameters that can be tweaked inside the different config files (e.g., the jump detection threshold in the \"jump.cfg\" file might need to be increased to avoid a lot of false-flagging in the jump detection step). Each individual step uses a configuration file, and the calwebb_*.cfg files contain all steps for each stage of processing. To run the Ramps-to-slopes pipeline for NIRCam, you can edit the configuration file to match the example below and save it: \n",
    "\n",
    "        name = \"Detector1Pipeline\"\n",
    "        class = \"jwst.pipeline.Detector1Pipeline\"\n",
    "        save_calibrated_ramp = False\n",
    "\n",
    "            [steps]\n",
    "              [[group_scale]]\n",
    "                skip = True\n",
    "              [[dq_init]]\n",
    "                config_file = dq_init.cfg\n",
    "              [[saturation]]\n",
    "                config_file = saturation.cfg\n",
    "              [[ipc]]\n",
    "                skip = True\n",
    "              [[superbias]]\n",
    "                config_file = superbias.cfg\n",
    "              [[refpix]]\n",
    "                config_file = refpix.cfg\n",
    "              [[rscd]]\n",
    "                skip = True\n",
    "              [[lastframe]]\n",
    "                skip = True\n",
    "              [[linearity]]\n",
    "                config_file = linearity.cfg\n",
    "              [[dark_current]]\n",
    "                skip = True\n",
    "              [[persistence]]\n",
    "                skip = True\n",
    "              [[jump]]\n",
    "                config_file = jump.cfg\n",
    "              [[ramp_fit]]\n",
    "                config_file = ramp_fit.cfg\n",
    "              [[gain_scale]]\n",
    "                skip = True"
   ]
  },
  {
   "cell_type": "markdown",
   "metadata": {},
   "source": [
    "***\n",
    "<a id='methods'></a>\n",
    "## 7. Ways to Run the Pipelines"
   ]
  },
  {
   "cell_type": "markdown",
   "metadata": {},
   "source": [
    "   ### Command line method"
   ]
  },
  {
   "cell_type": "markdown",
   "metadata": {},
   "source": [
    "The full stages and individual steps of the processing stages can be run via the command line as follows:\n",
    "\n",
    ">`$ strun dq_init.cfg uncalibrated_file.fits`\n",
    "\n",
    "Any step overrides or parameter changes are just added as shown below:\n",
    "\n",
    ">`$ strun dq_init.cfg uncalibrated_file.fits override_mask=\"new_mask.fits\"`\n",
    "\n",
    "or \n",
    "\n",
    ">`$ strun dq_init.cfg uncalibrated_file.fits output_file=\"output_file_dq.fits\"`"
   ]
  },
  {
   "cell_type": "markdown",
   "metadata": {},
   "source": [
    "   ### iPython: Module method"
   ]
  },
  {
   "cell_type": "markdown",
   "metadata": {},
   "source": [
    "It is easier to run the pipeline from within iPython, as it allows for quick tweaks to the parameters without having to open and re-save config files. You can simply start up iPython from within your pipeline environment:\n",
    "\n",
    ">`$ ipython`\n",
    "\n",
    "Then use the module to run individual steps and tweak the parameters. For example, to run the Stage 1 pipeline to generate slope images:\n",
    "\n",
    "```python\n",
    "# import the pipeline you want to run (e.g., ramps-to-slopes)\n",
    "from jwst.pipeline import calwebb_detector1\n",
    "\n",
    "# initialize\n",
    "m = calwebb_detector1.Detector1Pipeline()\n",
    "\n",
    "# make changes to the parameters/reference files used\n",
    "m.saturation.override_saturation = 'mysatfile.fits'\n",
    "m.superbias.override_superbias = 'mysuperbias.fits'\n",
    "m.refpix.odd_even_rows = False\n",
    "\n",
    "# skip steps you don't want to run\n",
    "m.group_scale.skip = True\n",
    "m.ipc.skip = True\n",
    "m.dark_current.skip = True\n",
    "m.persistence.skip = True\n",
    "\n",
    "# name your output file\n",
    "m.output_file = 'myoutputfilename.fits'\n",
    "\n",
    "# run the pipeline with these paramters\n",
    "m.run('uncalfile.fits')\n",
    "```        \n",
    "        \n",
    "Or you can write Python scripts that use those methods to run the pipelines.         "
   ]
  },
  {
   "cell_type": "markdown",
   "metadata": {},
   "source": [
    "   ### iPython: Class method"
   ]
  },
  {
   "cell_type": "markdown",
   "metadata": {},
   "source": [
    "The Class method is also relatively convenient, though you still have to edit the configuration files to make tweaks to individual step parameters: \n",
    "\n",
    "```python\n",
    "# import the pipeline you want to run (e.g., ramps-to-slopes) or the step (data quality initialization)\n",
    "from jwst.pipeline import Detector1Pipeline\n",
    "from jwst.dq_init import DQInitStep\n",
    "\n",
    "# override the default cfg file with \"config_file=\"\n",
    "Detector1Pipeline.call('uncalfile.fits',config_file='calwebb_detector1.cfg',output_file='calfile.fits')\n",
    "\n",
    "# to run an individual step:\n",
    "dq_step = DQInitStep.call('uncalfile.fits',output_file='dqonly.fits')\n",
    "\n",
    "# dq_step will have attributes:\n",
    "dq_step.data, dq_step.groupdq\n",
    "```        \n",
    "\n",
    "Get help with pipeline steps by typing: \n",
    "\n",
    "```python\n",
    "help(Detector1Pipeline)\n",
    "``` \n"
   ]
  },
  {
   "cell_type": "markdown",
   "metadata": {},
   "source": [
    "***\n",
    "<a id='data'></a>\n",
    "## 8. Example Data Set"
   ]
  },
  {
   "cell_type": "markdown",
   "metadata": {},
   "source": [
    "In order to demonstrate the imaging pipeline from ramps-to-slopes to image combination (and show part of the spectroscopy pipeline), I will use simulated data generated using Bryan Hilbert's NIRCam Simulator (2018, in prep). This is a set of grism observations consisting of 12 pointings (3 dither positions, with 4 subpixel dithers) for both row and column dispersed spectra. There are also associated direct images and out-of-field observations, along with associated shortwave channel imaging mode data. \n",
    "\n",
    "For the imaging pipeline we use:\n",
    "* module A (SW)\n",
    "* 8 pointings: 2 primary dithers, 4 subpixel dithers \n",
    "\n",
    "For the spectroscopy pipeline we use:\n",
    "* module A (LW), row dispersed\n",
    "* 1 pointing: 1 primary dither, 1 subpixel dither\n",
    "\n",
    "Below is an image of the footprint of this set of observations, to give you an idea of what our final combined image should resemble. "
   ]
  },
  {
   "cell_type": "code",
   "execution_count": null,
   "metadata": {},
   "outputs": [],
   "source": [
    "Image(filename='footprint.png')"
   ]
  },
  {
   "cell_type": "markdown",
   "metadata": {},
   "source": [
    "***\n",
    "<a id='rampstoslopes'></a>\n",
    "## 9. Stage 1 Processing: Ramps-to-slopes"
   ]
  },
  {
   "cell_type": "markdown",
   "metadata": {},
   "source": [
    "<div class=\"alert alert-block alert-warning\">**Note:** I will use iPython Method 1 to run the pipeline, as an example.</div>\n",
    "***"
   ]
  },
  {
   "cell_type": "markdown",
   "metadata": {},
   "source": [
    "Stage 1 (Detector1, calwebb_detector1) processing applies detector-level corrections to all exposure types (imaging, spectroscopic, coronagraphic, etc.) one exposure at a time. The pipeline module for stage 1 processing is calwebb_detector1, and the pipeline class is Detector1Pipeline.\n",
    "\n",
    "> **Inputs**: single raw 4D exposure file containing the original raw data from all of the detector readouts in the exposure (ncols x nrows x ngroups x nintegrations).\n",
    "\n",
    "> **Outputs**: a 2D countrate product, resulting from averaging over all of the integrations within the exposure, and a 3D countrate product for exposures with more than one integration (NINTS>1) that contains individual results for each integration. The output exposure will have suffix \"rate\" or \"rateints\".\n",
    "\n",
    "\n",
    "Steps for NIRCam:\n",
    "\n",
    "\n",
    "**Data quality initialization** (jwst.dq_init, dq_init_step, DQInitStep)\n",
    "* Reference file: bad pixel mask\n",
    "\n",
    "**Saturation check** (jwst.saturation, saturation_step, SaturationStep)\n",
    "* Reference file: saturation map\n",
    "    \n",
    "**Superbias subtraction** (jwst.superbias, superbias_step, SuperBiasStep)\n",
    "* Reference file: superbias \n",
    "    \n",
    "**Reference pixel correction** (jwst.refpix, refpix_step, RefPixStep)\n",
    "\n",
    "**Linearity correction** (jwst.linearity, linearity_step, LinearityStep)\n",
    "* Reference files: linearity correction coefficients\n",
    "    \n",
    "(implemented soon) **Persistence** (jwst.persistence, persistence_step, PersistenceStep)\n",
    "* Reference files: trap density, persistence saturation, trap parameters\n",
    "    \n",
    "**Jump Detection** (jwst.jump, jump_step, JumpStep)\n",
    "* Reference files: gain, readnoise\n",
    "    \n",
    "**Ramp-fitting** (jwst.ramp_fit, ramp_fit_step, RampFitStep)\n",
    "* Reference files: gain, readnoise\n",
    "\n",
    "(for more information on individual steps see: https://jwst-pipeline.readthedocs.io/en/latest/jwst/package_index.html)"
   ]
  },
  {
   "cell_type": "markdown",
   "metadata": {},
   "source": [
    "   ### Running the pipeline"
   ]
  },
  {
   "cell_type": "markdown",
   "metadata": {},
   "source": [
    "Below, we show how to run a single step, the full stage 1 pipeline for a single exposure, and the full stage 1 pipeline for all 32 exposures with multiprocessing. Note that for the Python methods, unless an output file is specified, nothing gets written out. You will have to manually save out the file as follows:\n",
    "\n",
    ">`m.save(\"youroutput.fits\")`"
   ]
  },
  {
   "cell_type": "code",
   "execution_count": null,
   "metadata": {},
   "outputs": [],
   "source": [
    "# Single exposure and full pipeline ---------------------------------------------------------------\n",
    "\n",
    "from jwst.pipeline import calwebb_detector1\n",
    "\n",
    "# file to calibrate and reference files \n",
    "infile = \"V54321001002P0000000001108_A1_F150W_uncal.fits\"\n",
    "outfile = infile[:-5]+\"_rate_example.fits\"\n",
    "saturationfile = \"jwst_nircam_saturation_0064.fits\"\n",
    "superbiasfile = \"jwst_nircam_superbias_0026.fits\"\n",
    "\n",
    "\n",
    "m = calwebb_detector1.Detector1Pipeline()\n",
    "\n",
    "# make changes to the parameters/reference files used\n",
    "m.saturation.override_saturation = saturationfile\n",
    "m.superbias.override_superbias = superbiasfile\n",
    "m.refpix.odd_even_rows = False\n",
    "\n",
    "# skip steps you don't want to run\n",
    "m.group_scale.skip = True\n",
    "m.ipc.skip = True\n",
    "m.dark_current.skip = True\n",
    "m.persistence.skip = True\n",
    "\n",
    "# name your output file\n",
    "m.output_file = outfile\n",
    "\n",
    "# run the pipeline with these paramters\n",
    "m.run(infile)"
   ]
  },
  {
   "cell_type": "code",
   "execution_count": null,
   "metadata": {},
   "outputs": [],
   "source": [
    "# Single step of the pipeline ---------------------------------------------------------------\n",
    "\n",
    "from jwst.saturation import saturation_step\n",
    "\n",
    "# file to calibrate and reference files \n",
    "infile = \"V54321001002P0000000001108_A1_F150W_uncal.fits\"\n",
    "outfile = infile[:-5]+\"_rate_example.fits\"\n",
    "saturationfile = \"jwst_nircam_saturation_0064.fits\"\n",
    "\n",
    "\n",
    "m = saturation_step.SaturationStep()\n",
    "\n",
    "# make changes to the parameters/reference files used\n",
    "m.override_saturation = saturationfile\n",
    "\n",
    "# name your output file\n",
    "m.output_file = outfile\n",
    "\n",
    "# run the pipeline with these paramters\n",
    "m.run(infile)\n",
    "\n",
    "## Alternative Class method \n",
    "## e.g., dq.data holds the output data, dq.pixeldq holds the Pixel DQ array\n",
    "# from jwst.saturation import SaturationStep\n",
    "# \n",
    "# dq = SaturationStep.call(infile,override_satruation=saturationfile,output_file=outfile)\n",
    "# dq.data, dq.groupdq"
   ]
  },
  {
   "cell_type": "code",
   "execution_count": null,
   "metadata": {},
   "outputs": [],
   "source": [
    "# Single exposure and full pipeline ---------------------------------------------------------------\n",
    "\n",
    "from jwst.pipeline import calwebb_detector1\n",
    "\n",
    "# file to calibrate and reference files \n",
    "infile = \"V54321001002P0000000001108_A1_F150W_uncal.fits\"\n",
    "outfile = infile[:-5]+\"_rate_example.fits\"\n",
    "saturationfile = \"jwst_nircam_saturation_0064.fits\"\n",
    "superbiasfile = \"jwst_nircam_superbias_0026.fits\"\n",
    "\n",
    "\n",
    "m = calwebb_detector1.Detector1Pipeline()\n",
    "\n",
    "# make changes to the parameters/reference files used\n",
    "m.saturation.override_saturation = saturationfile\n",
    "m.superbias.override_superbias = superbiasfile\n",
    "m.refpix.odd_even_rows = False\n",
    "\n",
    "# skip steps you don't want to run\n",
    "m.group_scale.skip = True\n",
    "m.ipc.skip = True\n",
    "m.dark_current.skip = True\n",
    "m.persistence.skip = True\n",
    "\n",
    "# name your output file\n",
    "m.output_file = outfile\n",
    "\n",
    "# run the pipeline with these paramters\n",
    "m.run(infile)"
   ]
  },
  {
   "cell_type": "code",
   "execution_count": null,
   "metadata": {},
   "outputs": [],
   "source": [
    "# Multiple exposures and full pipeline with multiprocessing ------------------------------------------\n",
    "\n",
    "from multiprocessing import Pool\n",
    "from jwst.pipeline import calwebb_detector1\n",
    "\n",
    "# Number of cores available for processing.\n",
    "N_PROCS = 5  \n",
    "\n",
    "def calwebb_detector1(infile,saturationfile,superbiasfile):\n",
    "    \"\"\"Run Stage 1 pipeline for input image.\"\"\"    \n",
    "    \n",
    "    outfile = infile[:-5]+\"_rate.fits\"\n",
    "    \n",
    "    m = calwebb_detector1.Detector1Pipeline()\n",
    "\n",
    "    # make changes to the parameters/reference files used\n",
    "    m.saturation.override_saturation = saturationfile\n",
    "    m.superbias.override_superbias = superbiasfile\n",
    "    m.refpix.odd_even_rows = False\n",
    "\n",
    "    # skip steps you don't want to run\n",
    "    m.group_scale.skip = True\n",
    "    m.ipc.skip = True\n",
    "    m.dark_current.skip = True\n",
    "    m.persistence.skip = True\n",
    "\n",
    "    # name your output file\n",
    "    m.output_file = outfile\n",
    "\n",
    "    # run the pipeline with these paramters\n",
    "    m.run(infile)\n",
    "\n",
    "# get list of files to process\n",
    "files_to_process = glob('*_uncal.fits')\n",
    "\n",
    "# run the pipeline for all files\n",
    "with Pool(N_PROCS) as pool:\n",
    "    pool.map(calwebb_detector1, files_to_process)"
   ]
  },
  {
   "cell_type": "markdown",
   "metadata": {},
   "source": [
    "The image below shows one frame of our example exposure, and the slope image output from calwebb_detector1."
   ]
  },
  {
   "cell_type": "code",
   "execution_count": null,
   "metadata": {},
   "outputs": [],
   "source": [
    "Image(\"detector1_example.png\")"
   ]
  },
  {
   "cell_type": "markdown",
   "metadata": {},
   "source": [
    "Here is the data format before Stage 1 processing: "
   ]
  },
  {
   "cell_type": "code",
   "execution_count": null,
   "metadata": {},
   "outputs": [],
   "source": [
    "from astropy.io import fits\n",
    "fits.info(\"V54321001002P0000000001108_A1_F150W_uncal.fits\")"
   ]
  },
  {
   "cell_type": "markdown",
   "metadata": {},
   "source": [
    "Here is the data format after Stage 1 processing: "
   ]
  },
  {
   "cell_type": "code",
   "execution_count": null,
   "metadata": {},
   "outputs": [],
   "source": [
    "fits.info(\"V54321001002P0000000001108_A1_F150W_rate.fits\")"
   ]
  },
  {
   "cell_type": "markdown",
   "metadata": {},
   "source": [
    "   ### Caveats!"
   ]
  },
  {
   "cell_type": "markdown",
   "metadata": {},
   "source": [
    "> 1. The persistence step has not been extensively tested yet, so we exclude it here. \n",
    "> 2. The variance calculations (VAR_POISSON, VAR_RNOISE) are not correct at the moment and will be fixed in a future version. "
   ]
  },
  {
   "cell_type": "markdown",
   "metadata": {},
   "source": [
    "***\n",
    "<a id='image2'></a>\n",
    "## 10. Stage 2 Image Processing: Calibrated individual exposures"
   ]
  },
  {
   "cell_type": "markdown",
   "metadata": {
    "collapsed": true
   },
   "source": [
    "Stage 2 imaging (Image2, calwebb_image2) processing applies additonal corrections that result in fully calibrated individual exposures. \n",
    "\n",
    "> **Inputs**: The input to the calwebb_image2 pipeline is a 2D or 3D countrate exposure, in the form of either \"rate\" or \"rateints\" files (for multiple integrations). A single input file can be processed or an association (ASN) file listing multiple inputs can be used, in which case the processing steps will be applied to each input exposure, one at a time. If \"rateints\" products are used as input, the steps in the pipeline are applied individually to each integration in an exposure, where appropriate.\n",
    "\n",
    "> **Outputs**: The output is a 2D or 3D calibrated exposure, using the product type suffix \"cal\" or \"calints\", depending on the type of input.\n",
    "\n",
    "\n",
    "Steps for NIRCam:\n",
    "\n",
    "**Background** (jwst.background, background_step, BackgroundStep)\n",
    "\n",
    "**Assign WCS** (jwst.assign_wcs, assign_wcs_step, AssignWcsStep)\n",
    "* Reference file: distortion\n",
    "\n",
    "**Flat Field** (jwst.flat_field, flat_field_step, FlatFieldStep)\n",
    "* Reference file: flat field\n",
    "\n",
    "**Photometric Correction** (jwst.photom, photom_step, PhotomStep)\n",
    "* Reference file: photometric conversion, pixel area map \n",
    "\n",
    "**Resample** (jwst.resample, resample_step, ResampleStep)\n",
    "\n",
    "(for more information on individual steps see: https://jwst-pipeline.readthedocs.io/en/latest/jwst/package_index.html)"
   ]
  },
  {
   "cell_type": "markdown",
   "metadata": {},
   "source": [
    "   ### JWST Associations"
   ]
  },
  {
   "cell_type": "markdown",
   "metadata": {},
   "source": [
    "Though you can run individual steps of this pipeline (e.g., run only Assign WCS to associate a WCS object with an exposure), we will run the full Stage 2 imaging pipeline on all 32 exposures using an association table. \n",
    "\n",
    "Read more about associations here: \n",
    "> https://jwst-docs.stsci.edu/display/JDAT/Understanding+Associations\n",
    "\n",
    "> http://jwst-pipeline.readthedocs.io/en/latest/jwst/associations/index.html\n",
    "\n",
    "Association tables provide the relationships between multiple exposures and allow the user to identify a set of exposures that belong together and might be dependent on one another. \n",
    "\n",
    "To create an association table from the command line, see the examples here:\n",
    "> https://jwst-pipeline.readthedocs.io/en/latest/jwst/associations/asn_from_list.html\n",
    "\n",
    "An example association table for this set of observations is shown below (the association table can also consist of a single image):\n",
    "\n",
    "\n",
    "```python\n",
    "{\n",
    "    \"program\": \"54321\",\n",
    "    \"asn_rule\": \"Asn_Lv2Image\",\n",
    "    \"version_id\": null,\n",
    "    \"asn_pool\": \"none\",\n",
    "    \"target\": \"none\",\n",
    "    \"code_version\": \"0.9.4\",\n",
    "    \"asn_type\": \"image2\",\n",
    "    \"products\": [\n",
    "        {\n",
    "            \"members\": [\n",
    "                {\n",
    "                    \"exptype\": \"science\",\n",
    "                    \"expname\": \"V54321001002P0000000001101_A1_F150W_rate.fits\"\n",
    "                }\n",
    "            ],\n",
    "            \"name\": \"V54321001002P0000000001101_A1_F150W\"\n",
    "        },\n",
    "        {\n",
    "            \"members\": [\n",
    "                {\n",
    "                    \"exptype\": \"science\",\n",
    "                    \"expname\": \"V54321001002P0000000001101_A2_F150W_rate.fits\"\n",
    "                }\n",
    "            ],\n",
    "            \"name\": \"V54321001002P0000000001101_A2_F150W\"\n",
    "        },\n",
    "        {\n",
    "            \"members\": [\n",
    "                {\n",
    "                    \"exptype\": \"science\",\n",
    "                    \"expname\": \"V54321001002P0000000001101_A3_F150W_rate.fits\"\n",
    "                }\n",
    "            ],\n",
    "            \"name\": \"V54321001002P0000000001101_A3_F150W\"\n",
    "        },\n",
    "        {\n",
    "            \"members\": [\n",
    "                {\n",
    "                    \"exptype\": \"science\",\n",
    "                    \"expname\": \"V54321001002P0000000001101_A4_F150W_rate.fits\"\n",
    "                }\n",
    "            ],\n",
    "            \"name\": \"V54321001002P0000000001101_A4_F150W\"\n",
    "        },\n",
    "        {\n",
    "            \"members\": [\n",
    "                {\n",
    "                    \"exptype\": \"science\",\n",
    "                    \"expname\": \"V54321001002P0000000001102_A1_F150W_rate.fits\"\n",
    "                }\n",
    "            ],\n",
    "            \"name\": \"V54321001002P0000000001102_A1_F150W\"\n",
    "        },\n",
    "        {\n",
    "            \"members\": [\n",
    "                {\n",
    "                    \"exptype\": \"science\",\n",
    "                    \"expname\": \"V54321001002P0000000001102_A2_F150W_rate.fits\"\n",
    "                }\n",
    "            ],\n",
    "            \"name\": \"V54321001002P0000000001102_A2_F150W\"\n",
    "        },\n",
    "        {\n",
    "            \"members\": [\n",
    "                {\n",
    "                    \"exptype\": \"science\",\n",
    "                    \"expname\": \"V54321001002P0000000001102_A3_F150W_rate.fits\"\n",
    "                }\n",
    "            ],\n",
    "            \"name\": \"V54321001002P0000000001102_A3_F150W\"\n",
    "        },\n",
    "        {\n",
    "            \"members\": [\n",
    "                {\n",
    "                    \"exptype\": \"science\",\n",
    "                    \"expname\": \"V54321001002P0000000001102_A4_F150W_rate.fits\"\n",
    "                }\n",
    "            ],\n",
    "            \"name\": \"V54321001002P0000000001102_A4_F150W\"\n",
    "        },\n",
    "        {\n",
    "            \"members\": [\n",
    "                {\n",
    "                    \"exptype\": \"science\",\n",
    "                    \"expname\": \"V54321001002P0000000001103_A1_F150W_rate.fits\"\n",
    "                }\n",
    "            ],\n",
    "            \"name\": \"V54321001002P0000000001103_A1_F150W\"\n",
    "        },\n",
    "        {\n",
    "            \"members\": [\n",
    "                {\n",
    "                    \"exptype\": \"science\",\n",
    "                    \"expname\": \"V54321001002P0000000001103_A2_F150W_rate.fits\"\n",
    "                }\n",
    "            ],\n",
    "            \"name\": \"V54321001002P0000000001103_A2_F150W\"\n",
    "        },\n",
    "        {\n",
    "            \"members\": [\n",
    "                {\n",
    "                    \"exptype\": \"science\",\n",
    "                    \"expname\": \"V54321001002P0000000001103_A3_F150W_rate.fits\"\n",
    "                }\n",
    "            ],\n",
    "            \"name\": \"V54321001002P0000000001103_A3_F150W\"\n",
    "        },\n",
    "        {\n",
    "            \"members\": [\n",
    "                {\n",
    "                    \"exptype\": \"science\",\n",
    "                    \"expname\": \"V54321001002P0000000001103_A4_F150W_rate.fits\"\n",
    "                }\n",
    "            ],\n",
    "            \"name\": \"V54321001002P0000000001103_A4_F150W\"\n",
    "        },\n",
    "        {\n",
    "            \"members\": [\n",
    "                {\n",
    "                    \"exptype\": \"science\",\n",
    "                    \"expname\": \"V54321001002P0000000001104_A1_F150W_rate.fits\"\n",
    "                }\n",
    "            ],\n",
    "            \"name\": \"V54321001002P0000000001104_A1_F150W\"\n",
    "        },\n",
    "        {\n",
    "            \"members\": [\n",
    "                {\n",
    "                    \"exptype\": \"science\",\n",
    "                    \"expname\": \"V54321001002P0000000001104_A2_F150W_rate.fits\"\n",
    "                }\n",
    "            ],\n",
    "            \"name\": \"V54321001002P0000000001104_A2_F150W\"\n",
    "        },\n",
    "        {\n",
    "            \"members\": [\n",
    "                {\n",
    "                    \"exptype\": \"science\",\n",
    "                    \"expname\": \"V54321001002P0000000001104_A3_F150W_rate.fits\"\n",
    "                }\n",
    "            ],\n",
    "            \"name\": \"V54321001002P0000000001104_A3_F150W\"\n",
    "        },\n",
    "        {\n",
    "            \"members\": [\n",
    "                {\n",
    "                    \"exptype\": \"science\",\n",
    "                    \"expname\": \"V54321001002P0000000001104_A4_F150W_rate.fits\"\n",
    "                }\n",
    "            ],\n",
    "            \"name\": \"V54321001002P0000000001104_A4_F150W\"\n",
    "        },\n",
    "        {\n",
    "            \"members\": [\n",
    "                {\n",
    "                    \"exptype\": \"science\",\n",
    "                    \"expname\": \"V54321001002P0000000001105_A1_F150W_rate.fits\"\n",
    "                }\n",
    "            ],\n",
    "            \"name\": \"V54321001002P0000000001105_A1_F150W\"\n",
    "        },\n",
    "        {\n",
    "            \"members\": [\n",
    "                {\n",
    "                    \"exptype\": \"science\",\n",
    "                    \"expname\": \"V54321001002P0000000001105_A2_F150W_rate.fits\"\n",
    "                }\n",
    "            ],\n",
    "            \"name\": \"V54321001002P0000000001105_A2_F150W\"\n",
    "        },\n",
    "        {\n",
    "            \"members\": [\n",
    "                {\n",
    "                    \"exptype\": \"science\",\n",
    "                    \"expname\": \"V54321001002P0000000001105_A3_F150W_rate.fits\"\n",
    "                }\n",
    "            ],\n",
    "            \"name\": \"V54321001002P0000000001105_A3_F150W\"\n",
    "        },\n",
    "        {\n",
    "            \"members\": [\n",
    "                {\n",
    "                    \"exptype\": \"science\",\n",
    "                    \"expname\": \"V54321001002P0000000001105_A4_F150W_rate.fits\"\n",
    "                }\n",
    "            ],\n",
    "            \"name\": \"V54321001002P0000000001105_A4_F150W\"\n",
    "        },\n",
    "        {\n",
    "            \"members\": [\n",
    "                {\n",
    "                    \"exptype\": \"science\",\n",
    "                    \"expname\": \"V54321001002P0000000001106_A1_F150W_rate.fits\"\n",
    "                }\n",
    "            ],\n",
    "            \"name\": \"V54321001002P0000000001106_A1_F150W\"\n",
    "        },\n",
    "        {\n",
    "            \"members\": [\n",
    "                {\n",
    "                    \"exptype\": \"science\",\n",
    "                    \"expname\": \"V54321001002P0000000001106_A2_F150W_rate.fits\"\n",
    "                }\n",
    "            ],\n",
    "            \"name\": \"V54321001002P0000000001106_A2_F150W\"\n",
    "        },\n",
    "        {\n",
    "            \"members\": [\n",
    "                {\n",
    "                    \"exptype\": \"science\",\n",
    "                    \"expname\": \"V54321001002P0000000001106_A3_F150W_rate.fits\"\n",
    "                }\n",
    "            ],\n",
    "            \"name\": \"V54321001002P0000000001106_A3_F150W\"\n",
    "        },\n",
    "        {\n",
    "            \"members\": [\n",
    "                {\n",
    "                    \"exptype\": \"science\",\n",
    "                    \"expname\": \"V54321001002P0000000001106_A4_F150W_rate.fits\"\n",
    "                }\n",
    "            ],\n",
    "            \"name\": \"V54321001002P0000000001106_A4_F150W\"\n",
    "        },\n",
    "        {\n",
    "            \"members\": [\n",
    "                {\n",
    "                    \"exptype\": \"science\",\n",
    "                    \"expname\": \"V54321001002P0000000001107_A1_F150W_rate.fits\"\n",
    "                }\n",
    "            ],\n",
    "            \"name\": \"V54321001002P0000000001107_A1_F150W\"\n",
    "        },\n",
    "        {\n",
    "            \"members\": [\n",
    "                {\n",
    "                    \"exptype\": \"science\",\n",
    "                    \"expname\": \"V54321001002P0000000001107_A2_F150W_rate.fits\"\n",
    "                }\n",
    "            ],\n",
    "            \"name\": \"V54321001002P0000000001107_A2_F150W\"\n",
    "        },\n",
    "        {\n",
    "            \"members\": [\n",
    "                {\n",
    "                    \"exptype\": \"science\",\n",
    "                    \"expname\": \"V54321001002P0000000001107_A3_F150W_rate.fits\"\n",
    "                }\n",
    "            ],\n",
    "            \"name\": \"V54321001002P0000000001107_A3_F150W\"\n",
    "        },\n",
    "        {\n",
    "            \"members\": [\n",
    "                {\n",
    "                    \"exptype\": \"science\",\n",
    "                    \"expname\": \"V54321001002P0000000001107_A4_F150W_rate.fits\"\n",
    "                }\n",
    "            ],\n",
    "            \"name\": \"V54321001002P0000000001107_A4_F150W\"\n",
    "        },\n",
    "        {\n",
    "            \"members\": [\n",
    "                {\n",
    "                    \"exptype\": \"science\",\n",
    "                    \"expname\": \"V54321001002P0000000001108_A1_F150W_rate.fits\"\n",
    "                }\n",
    "            ],\n",
    "            \"name\": \"V54321001002P0000000001108_A1_F150W\"\n",
    "        },\n",
    "        {\n",
    "            \"members\": [\n",
    "                {\n",
    "                    \"exptype\": \"science\",\n",
    "                    \"expname\": \"V54321001002P0000000001108_A2_F150W_rate.fits\"\n",
    "                }\n",
    "            ],\n",
    "            \"name\": \"V54321001002P0000000001108_A2_F150W\"\n",
    "        },\n",
    "        {\n",
    "            \"members\": [\n",
    "                {\n",
    "                    \"exptype\": \"science\",\n",
    "                    \"expname\": \"V54321001002P0000000001108_A3_F150W_rate.fits\"\n",
    "                }\n",
    "            ],\n",
    "            \"name\": \"V54321001002P0000000001108_A3_F150W\"\n",
    "        },\n",
    "        {\n",
    "            \"members\": [\n",
    "                {\n",
    "                    \"exptype\": \"science\",\n",
    "                    \"expname\": \"V54321001002P0000000001108_A4_F150W_rate.fits\"\n",
    "                }\n",
    "            ],\n",
    "            \"name\": \"V54321001002P0000000001108_A4_F150W\"\n",
    "        }\n",
    "    ]\n",
    "}\n",
    "```"
   ]
  },
  {
   "cell_type": "markdown",
   "metadata": {},
   "source": [
    "   ### Running the pipeline"
   ]
  },
  {
   "cell_type": "code",
   "execution_count": null,
   "metadata": {},
   "outputs": [],
   "source": [
    "# Run the pipeline ---------------------------------------------------------------\n",
    "\n",
    "from jwst.pipeline import calwebb_image2\n",
    "\n",
    "# association table containing exposures to calibrate\n",
    "association = \"image2_obs1-8_asn.json\"\n",
    "\n",
    "m = calwebb_image2.Image2Pipeline()\n",
    "\n",
    "# # you can still skip steps and override reference files\n",
    "# m.assign_wcs.override_distortion = \"other_distortion_file.fits\"\n",
    "# m.background.skip = True\n",
    "\n",
    "# run the pipeline with these paramters\n",
    "m.run(association)"
   ]
  },
  {
   "cell_type": "markdown",
   "metadata": {},
   "source": [
    "The image below shows an example countrate image before and after calwebb_image2. "
   ]
  },
  {
   "cell_type": "code",
   "execution_count": null,
   "metadata": {},
   "outputs": [],
   "source": [
    "Image(\"image2_example.png\")"
   ]
  },
  {
   "cell_type": "markdown",
   "metadata": {},
   "source": [
    "Here is the data format after Stage 2 processing: "
   ]
  },
  {
   "cell_type": "code",
   "execution_count": null,
   "metadata": {},
   "outputs": [],
   "source": [
    "fits.info(\"V54321001002P0000000001108_A1_F150W_cal.fits\")"
   ]
  },
  {
   "cell_type": "markdown",
   "metadata": {},
   "source": [
    "***\n",
    "<a id='image3'></a>\n",
    "## 11. Stage 3 Image Processing: Source catalogs and mosaics"
   ]
  },
  {
   "cell_type": "markdown",
   "metadata": {},
   "source": [
    "Stage 3 imaging (Image3, calwebb_image3) processing is intended for combining the calibrated data from multiple exposures (e.g., a dither or mosaic pattern) into a single distortion corrected product. Before being combined, the exposures receive additional corrections for the purpose of astrometric alignment, background matching, and outlier rejection. \n",
    "\n",
    "> **Inputs**: The inputs to calwebb_image3 will usually be in the form of an ASN file that lists multiple associated 2D calibrated exposures to be processed and combined into a single product. The individual exposures should be calibrated (\"cal\") from calwebb_image2 processing. It is also possible use a single \"cal\" file as input, in which case only the resample and source_catalog steps will be applied.\n",
    "\n",
    "> **Outputs**: A resampled/rectified 2D image product with suffix \"i2d\" is created, containing the rectified single exposure or the rectified and combined association of exposures (the direct output of the resample step). A source catalog produced from the \"i2d\" product is saved as an ASCII file in \"ecsv\" format, with a suffix of \"cat\". If the outlier_detection step is applied, a new version of each input calibrated exposure product is created, which contains a DQ array that has been updated to flag pixels detected as outliers. This updated product is known as a CR-flagged product and the file is identified by including the association candidate ID in the original input \"cal\" file name and changing the suffix to \"crf\".\n",
    "    \n",
    "\n",
    "Steps for NIRCam:\n",
    "\n",
    "**Tweakreg** (jwst.tweakreg, tweakreg_step, TweakRegStep)\n",
    "\n",
    "**Sky Match** (jwst.skymatch, skymatch_step, SkyMatchStep)\n",
    "\n",
    "**Outlier Detection** (jwst.outlier_detection, outlier_detection_step, OutlierDetectionStep)\n",
    "\n",
    "**Resample** (jwst.resample, resample_step, ResampleStep)\n",
    "\n",
    "**Source Catalog** (jwst.source_catalog, source_catalog_step, SourceCatalogStep)\n",
    "\n",
    "(for more information on individual steps see: https://jwst-pipeline.readthedocs.io/en/latest/jwst/package_index.html)"
   ]
  },
  {
   "cell_type": "markdown",
   "metadata": {},
   "source": [
    "   ### Image 3 Association Table"
   ]
  },
  {
   "cell_type": "markdown",
   "metadata": {},
   "source": [
    "Here, I use an association table to generate a combined image. Below is my example association (you can also put a single image in the association table):\n",
    "\n",
    "```python\n",
    "{\n",
    "    \"asn_id\": \"a3001\",\n",
    "    \"asn_pool\": \"none\",\n",
    "    \"asn_rule\": \"Asn_Image\",\n",
    "    \"program\": \"54321\",\n",
    "    \"asn_type\": \"image3\",\n",
    "    \"constraints\": \"No constraints\",\n",
    "    \"code_version\": \"0.9.4\",\n",
    "    \"target\": \"none\",\n",
    "    \"version_id\": null,\n",
    "    \"degraded_status\": \"No known degraded exposures in association.\",\n",
    "    \"products\": [\n",
    "        {\n",
    "            \"name\": \"mosaic_A1-A4_obs1-8\",\n",
    "            \"members\": [\n",
    "                {\n",
    "                    \"expname\": \"V54321001002P0000000001101_A1_F150W_cal.fits\",\n",
    "                    \"exptype\": \"science\"\n",
    "                },\n",
    "                {\n",
    "                    \"expname\": \"V54321001002P0000000001101_A2_F150W_cal.fits\",\n",
    "                    \"exptype\": \"science\"\n",
    "                },\n",
    "                {\n",
    "                    \"expname\": \"V54321001002P0000000001101_A3_F150W_cal.fits\",\n",
    "                    \"exptype\": \"science\"\n",
    "                },\n",
    "                {\n",
    "                    \"expname\": \"V54321001002P0000000001101_A4_F150W_cal.fits\",\n",
    "                    \"exptype\": \"science\"\n",
    "                },\n",
    "                {\n",
    "                    \"expname\": \"V54321001002P0000000001102_A1_F150W_cal.fits\",\n",
    "                    \"exptype\": \"science\"\n",
    "                },\n",
    "                {\n",
    "                    \"expname\": \"V54321001002P0000000001102_A2_F150W_cal.fits\",\n",
    "                    \"exptype\": \"science\"\n",
    "                },\n",
    "                {\n",
    "                    \"expname\": \"V54321001002P0000000001102_A3_F150W_cal.fits\",\n",
    "                    \"exptype\": \"science\"\n",
    "                },\n",
    "                {\n",
    "                    \"expname\": \"V54321001002P0000000001102_A4_F150W_cal.fits\",\n",
    "                    \"exptype\": \"science\"\n",
    "                },\n",
    "                {\n",
    "                    \"expname\": \"V54321001002P0000000001103_A1_F150W_cal.fits\",\n",
    "                    \"exptype\": \"science\"\n",
    "                },\n",
    "                {\n",
    "                    \"expname\": \"V54321001002P0000000001103_A2_F150W_cal.fits\",\n",
    "                    \"exptype\": \"science\"\n",
    "                },\n",
    "                {\n",
    "                    \"expname\": \"V54321001002P0000000001103_A3_F150W_cal.fits\",\n",
    "                    \"exptype\": \"science\"\n",
    "                },\n",
    "                {\n",
    "                    \"expname\": \"V54321001002P0000000001103_A4_F150W_cal.fits\",\n",
    "                    \"exptype\": \"science\"\n",
    "                },\n",
    "                {\n",
    "                    \"expname\": \"V54321001002P0000000001104_A1_F150W_cal.fits\",\n",
    "                    \"exptype\": \"science\"\n",
    "                },\n",
    "                {\n",
    "                    \"expname\": \"V54321001002P0000000001104_A2_F150W_cal.fits\",\n",
    "                    \"exptype\": \"science\"\n",
    "                },\n",
    "                {\n",
    "                    \"expname\": \"V54321001002P0000000001104_A3_F150W_cal.fits\",\n",
    "                    \"exptype\": \"science\"\n",
    "                },\n",
    "                {\n",
    "                    \"expname\": \"V54321001002P0000000001104_A4_F150W_cal.fits\",\n",
    "                    \"exptype\": \"science\"\n",
    "                },\n",
    "                {\n",
    "                    \"expname\": \"V54321001002P0000000001105_A1_F150W_cal.fits\",\n",
    "                    \"exptype\": \"science\"\n",
    "                },\n",
    "                {\n",
    "                    \"expname\": \"V54321001002P0000000001105_A2_F150W_cal.fits\",\n",
    "                    \"exptype\": \"science\"\n",
    "                },\n",
    "                {\n",
    "                    \"expname\": \"V54321001002P0000000001105_A3_F150W_cal.fits\",\n",
    "                    \"exptype\": \"science\"\n",
    "                },\n",
    "                {\n",
    "                    \"expname\": \"V54321001002P0000000001105_A4_F150W_cal.fits\",\n",
    "                    \"exptype\": \"science\"\n",
    "                },\n",
    "                {\n",
    "                    \"expname\": \"V54321001002P0000000001106_A1_F150W_cal.fits\",\n",
    "                    \"exptype\": \"science\"\n",
    "                },\n",
    "                {\n",
    "                    \"expname\": \"V54321001002P0000000001106_A2_F150W_cal.fits\",\n",
    "                    \"exptype\": \"science\"\n",
    "                },\n",
    "                {\n",
    "                    \"expname\": \"V54321001002P0000000001106_A3_F150W_cal.fits\",\n",
    "                    \"exptype\": \"science\"\n",
    "                },\n",
    "                {\n",
    "                    \"expname\": \"V54321001002P0000000001106_A4_F150W_cal.fits\",\n",
    "                    \"exptype\": \"science\"\n",
    "                },\n",
    "                {\n",
    "                    \"expname\": \"V54321001002P0000000001107_A1_F150W_cal.fits\",\n",
    "                    \"exptype\": \"science\"\n",
    "                },\n",
    "                {\n",
    "                    \"expname\": \"V54321001002P0000000001107_A2_F150W_cal.fits\",\n",
    "                    \"exptype\": \"science\"\n",
    "                },\n",
    "                {\n",
    "                    \"expname\": \"V54321001002P0000000001107_A3_F150W_cal.fits\",\n",
    "                    \"exptype\": \"science\"\n",
    "                },\n",
    "                {\n",
    "                    \"expname\": \"V54321001002P0000000001107_A4_F150W_cal.fits\",\n",
    "                    \"exptype\": \"science\"\n",
    "                },\n",
    "                {\n",
    "                    \"expname\": \"V54321001002P0000000001108_A1_F150W_cal.fits\",\n",
    "                    \"exptype\": \"science\"\n",
    "                },\n",
    "                {\n",
    "                    \"expname\": \"V54321001002P0000000001108_A2_F150W_cal.fits\",\n",
    "                    \"exptype\": \"science\"\n",
    "                },\n",
    "                {\n",
    "                    \"expname\": \"V54321001002P0000000001108_A3_F150W_cal.fits\",\n",
    "                    \"exptype\": \"science\"\n",
    "                },\n",
    "                {\n",
    "                    \"expname\": \"V54321001002P0000000001108_A4_F150W_cal.fits\",\n",
    "                    \"exptype\": \"science\"\n",
    "                }\n",
    "            ]\n",
    "        }\n",
    "    ]\n",
    "}\n",
    "```"
   ]
  },
  {
   "cell_type": "markdown",
   "metadata": {},
   "source": [
    "   ### Running the pipeline"
   ]
  },
  {
   "cell_type": "code",
   "execution_count": null,
   "metadata": {},
   "outputs": [],
   "source": [
    "# Run the pipeline ---------------------------------------------------------------\n",
    "\n",
    "from jwst.pipeline import calwebb_image3\n",
    "\n",
    "# association table containing exposures to calibrate\n",
    "association = \"image3_obs1-8_asn.json\"\n",
    "\n",
    "m = calwebb_image3.Image3Pipeline()\n",
    "\n",
    "# # you can still skip steps and override reference files\n",
    "m.outlier_detection.skip = True\n",
    "m.source_catalog.snr_threshold = 20\n",
    "m.source_catalog.output_file = \"mosaic_A1-A4_obs1-8_cat.ecsv\"\n",
    "\n",
    "# run the pipeline with these paramters\n",
    "m.run(association)"
   ]
  },
  {
   "cell_type": "markdown",
   "metadata": {},
   "source": [
    "This will generate a final source catalog (\"cat.ecsv\"), a final 2D image (\"i2d.fits\"), individual exposures with DQ array flagged for outliers (\"crf.fits\"), and blot images from the outlier detection step (\"blot.fits\"). Changing the SNR threshold for the source catalog step will reduce the number of false detections."
   ]
  },
  {
   "cell_type": "markdown",
   "metadata": {},
   "source": [
    "   ### Caveats!"
   ]
  },
  {
   "cell_type": "markdown",
   "metadata": {},
   "source": [
    ">1. Values in the photom reference file are dummy values, so the magnitudes in the catalog are not correct."
   ]
  },
  {
   "cell_type": "markdown",
   "metadata": {},
   "source": [
    "   ### Source catalog"
   ]
  },
  {
   "cell_type": "code",
   "execution_count": null,
   "metadata": {},
   "outputs": [],
   "source": [
    "# below is an example source catalog product\n",
    "from astropy.table import Table\n",
    "\n",
    "catalog = Table.read(\"mosaic_A1-A4_obs1-8_cat.ecsv\",format='ascii.ecsv')\n",
    "catalog"
   ]
  },
  {
   "cell_type": "markdown",
   "metadata": {},
   "source": [
    "   ### Combined image"
   ]
  },
  {
   "cell_type": "markdown",
   "metadata": {},
   "source": [
    "The image below shows the final combined image (\"i2d.fits\") after calwebb_image3. "
   ]
  },
  {
   "cell_type": "code",
   "execution_count": null,
   "metadata": {},
   "outputs": [],
   "source": [
    "Image(\"image3_example.png\")"
   ]
  },
  {
   "cell_type": "markdown",
   "metadata": {},
   "source": [
    "Changing the SNR threshold reduces false detections in the source catalog."
   ]
  },
  {
   "cell_type": "code",
   "execution_count": null,
   "metadata": {},
   "outputs": [],
   "source": [
    "Image(\"catalog_overlay.png\")"
   ]
  },
  {
   "cell_type": "markdown",
   "metadata": {},
   "source": [
    "Here is the data format for the final combined image (\"i2d.fits\"):"
   ]
  },
  {
   "cell_type": "code",
   "execution_count": null,
   "metadata": {},
   "outputs": [],
   "source": [
    "fits.info(\"mosaic_A1-A4_obs1-9_obsabc_i2d.fits\")"
   ]
  },
  {
   "cell_type": "markdown",
   "metadata": {},
   "source": [
    "   ### Direct image"
   ]
  },
  {
   "cell_type": "markdown",
   "metadata": {},
   "source": [
    "The source catalog step of the Stage 3 imaging pipeline can be used to generate catalogs for the spectroscopic pipeline. For this set of simulated SW images, we also have grism observations taken with the LW channel. Running the observation from the last dither position for this set of images through the calwebb_image3 pipeline alone generates a source catalog for simulated grism observations that can then be fed into the Stage 2 pipeline for spectroscopy, discussed in the [Stage 2 Spectroscopic Processing](#spec2) section. "
   ]
  },
  {
   "cell_type": "markdown",
   "metadata": {},
   "source": [
    "***\n",
    "<a id='spec2'></a>\n",
    "## 12. Stage 2 Spectroscopic Processing:  Calibrated individual exposures"
   ]
  },
  {
   "cell_type": "markdown",
   "metadata": {},
   "source": [
    "Stage 2 spectroscopic (Spec2, calwebb_spec2) pipeline applies additional corrections to countrate products that result in fully calibrated individual exposures. \n",
    "\n",
    "> **Inputs**: The input to the calwebb_spec2 pipeline can be either a single countrate (\"rate\" or \"rateints\") exposure or an ASN table listing multiple exposures. The background subtraction (bkg_subtract) step can only be executed when the pipeline is supplied with an association of exposures, because it relies on multiple exposures to perform their tasks. The ASN file must not only list the input exposures, but must also contain information that indicates their relationships to one another. Background subtraction for Wide-Field Slitless Spectroscopy (WFSS) exposures is accomplished by scaling and subtracting a master background image from a CRDS reference file.\n",
    "If a single countrate product is used as input, the background subtraction step will be skipped and only the remaining regular calibration steps will be applied to the input exposure.\n",
    "\n",
    "> **Outputs**: Two different types of outputs are created by calwebb_spec2. 1.) A fully-calibrated product at the end of the photom step, which uses the \"cal\" or \"calints\" suffix, depending on whether the input was a \"rate\" or \"rateints\" product, respectively. 2.) A 1D extracted spectral data product, which is saved as a \"x1d\" or \"x1dints\" file, depending on the input type. If the input to calwebb_spec2 is an ASN file, these products are created for each input exposure.\n",
    "    \n",
    "\n",
    "\n",
    "\n",
    "Steps for NIRCam:\n",
    "\n",
    "**Background Subtract** (jwst.background, background_sub)\n",
    "* Reference file: WFSS background (actual bkg image), wavelength range \n",
    "\n",
    "**Assign WCS** (jwst.assign_wcs, assign_wcs_step, AssignWcsStep)\n",
    "* Reference file: distortion\n",
    "\n",
    "**Extract 2D** (jwst.extract_2d, extract_2d_step, Extract2dStep)\n",
    "* Reference file: wavelength range \n",
    "\n",
    "**Flat Field** (jwst.flat_field, flat_field_step, FlatFieldStep)\n",
    "* Reference file: flat field\n",
    "\n",
    "**Source Type** (jwst.srctype, srctype_step, SourceTypeStep)\n",
    "\n",
    "**Photometric Correction** (jwst.photom, photom_step, PhotomStep)\n",
    "* Reference file: photometric conversion\n",
    "\n",
    "**Extract 1D** (jwst.extract_1d, extract_1d_step, Extract1dStep)\n",
    "\n",
    "(for more information on individual steps see: https://jwst-pipeline.readthedocs.io/en/latest/jwst/package_index.html)"
   ]
  },
  {
   "cell_type": "markdown",
   "metadata": {},
   "source": [
    "   ### Association table"
   ]
  },
  {
   "cell_type": "markdown",
   "metadata": {},
   "source": [
    "Though you can run individual steps of this pipeline (e.g., run only Assign WCS to associate a WCS object with an exposure), we will run the full Stage 2 spectroscopic pipeline on one exposure in an association table (with the source catalog). We don't have a background exposure for this observation.\n",
    "\n",
    "An example association table is shown below: \n",
    "\n",
    "\n",
    "```python\n",
    "{\n",
    "    \"asn_type\": \"None\",\n",
    "    \"version_id\": null,\n",
    "    \"target\": \"none\",\n",
    "    \"code_version\": \"0.9.4\",\n",
    "    \"asn_rule\": \"Asn_Lv2Spec\",\n",
    "    \"asn_pool\": \"none\",\n",
    "    \"program\": \"54321\",\n",
    "    \"asn_type\": \"spec2\",\n",
    "    \"products\": [\n",
    "        {\n",
    "            \"name\": \"V54321001002P0000000001109_A5_F410M_rate_dispersed_GRISMR_crossing_F444W_extract1D\",\n",
    "            \"members\": [\n",
    "                {\n",
    "                    \"exptype\": \"science\",\n",
    "                    \"expname\": \"V54321001002P0000000001109_A5_F410M_rate_dispersed_GRISMR_crossing_F444W_rate.fits\"\n",
    "                },\n",
    "                {\n",
    "                    \"exptype\": \"sourcecat\",\n",
    "                    \"expname\": \"V54321001002P000000000110d_A5_F444W_directImage_cat_3sources.ecsv\"\n",
    "                }\n",
    "            ]\n",
    "        }\n",
    "    ]\n",
    "}\n",
    "```\n",
    "\n",
    "You can also use the pipeline tool ```asn_from_list``` to create your association. ```asn_from_list``` is included in the pipeline code. To run it, provide your files and edit the exposure types afterwards. For example:\n",
    "\n",
    "```python\n",
    "from jwst.associations.lib.rules_level2_base import DMSLevel2bBase\n",
    "asn = asn_from_list(['science_file.fits', 'background_file.fits', 'catalog_file.ecsv'], rule=DMSLevel2Base)\n",
    "asn['products'][0]['members'][1]['exptype'] = 'background'\n",
    "asn['products'][0]['members'][2]['exptype'] = 'sourcecat'\n",
    "with open('spec2_asn.json', 'w') as fh:\n",
    "   fh.write(asn.dump()[1])\n",
    "```"
   ]
  },
  {
   "cell_type": "markdown",
   "metadata": {},
   "source": [
    "   ### Caveats!"
   ]
  },
  {
   "cell_type": "markdown",
   "metadata": {},
   "source": [
    ">1. This pipeline has only been roughly tested to make sure it runs without errors; however, preliminary results are available. \n",
    ">2. Values in the photom reference file are dummy values."
   ]
  },
  {
   "cell_type": "markdown",
   "metadata": {},
   "source": [
    "```python\n",
    "# Run the pipeline ---------------------------------------------------------------\n",
    "\n",
    "from jwst.pipeline import calwebb_spec2\n",
    "\n",
    "# association table containing exposures to calibrate\n",
    "association = \"spec2_1obs_asn.json\"\n",
    "\n",
    "m = calwebb_spec2.Spec2Pipeline()\n",
    "\n",
    "# run the pipeline with these paramters\n",
    "m.run(association)\n",
    "```"
   ]
  },
  {
   "cell_type": "markdown",
   "metadata": {},
   "source": [
    "The image below shows an example of the direct image with 3 chosen sources from the catalog circled and the dispersed image."
   ]
  },
  {
   "cell_type": "code",
   "execution_count": null,
   "metadata": {},
   "outputs": [],
   "source": [
    "Image(\"spec2_example.png\")"
   ]
  },
  {
   "cell_type": "markdown",
   "metadata": {},
   "source": [
    "The image below shows an example of cutouts made by the Extract 2D step."
   ]
  },
  {
   "cell_type": "code",
   "execution_count": null,
   "metadata": {},
   "outputs": [],
   "source": [
    "Image(\"extract2d_example.png\")"
   ]
  },
  {
   "cell_type": "markdown",
   "metadata": {},
   "source": [
    "Data format before calwebb_spec2 pipeline: "
   ]
  },
  {
   "cell_type": "code",
   "execution_count": null,
   "metadata": {},
   "outputs": [],
   "source": [
    "fits.info(\"V54321001002P0000000001109_A5_F410M_rate_dispersed_GRISMR_crossing_F444W_rate.fits\")"
   ]
  },
  {
   "cell_type": "markdown",
   "metadata": {},
   "source": [
    "Finally, here is the data format after the full calwebb_spec2 pipeline. There is one extension for each source and each order (3 sources, 2 orders), even though there are no second order spectra for this filter. "
   ]
  },
  {
   "cell_type": "code",
   "execution_count": null,
   "metadata": {
    "scrolled": true
   },
   "outputs": [],
   "source": [
    "fits.info(\"V54321001002P0000000001109_A5_F410M_rate_dispersed_GRISMR_crossing_F444W_extract1D_x1d.fits\")"
   ]
  }
 ],
 "metadata": {
  "kernelspec": {
   "display_name": "Python 3",
   "language": "python",
   "name": "python3"
  },
  "language_info": {
   "codemirror_mode": {
    "name": "ipython",
    "version": 3
   },
   "file_extension": ".py",
   "mimetype": "text/x-python",
   "name": "python",
   "nbconvert_exporter": "python",
   "pygments_lexer": "ipython3",
   "version": "3.5.4"
  }
 },
 "nbformat": 4,
 "nbformat_minor": 1
}
